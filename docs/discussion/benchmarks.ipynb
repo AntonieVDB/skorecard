{
 "cells": [
  {
   "cell_type": "markdown",
   "source": [
    "# Benchmarks\n",
    "\n",
    "Against some alternatives.\n",
    "\n",
    "## Data\n",
    "\n",
    "UCI Credit card dataset with 30k rows and 23 features."
   ],
   "metadata": {}
  },
  {
   "cell_type": "code",
   "execution_count": 50,
   "source": [
    "import pandas as pd\n",
    "from skorecard.datasets import load_credit_card\n",
    "from sklearn.model_selection import train_test_split\n",
    "\n",
    "data = load_credit_card(as_frame=True)\n",
    "print(f\"data shape: {data.shape}\")\n",
    "\n",
    "X_train, X_test, y_train, y_test = train_test_split(\n",
    "    data.drop(['y'], axis=1),\n",
    "    data['y'], \n",
    "    test_size=0.25, \n",
    "    random_state=42\n",
    ")"
   ],
   "outputs": [
    {
     "output_type": "stream",
     "name": "stdout",
     "text": [
      "data shape: (30000, 24)\n"
     ]
    }
   ],
   "metadata": {}
  },
  {
   "cell_type": "markdown",
   "source": [
    "## Experiment setup"
   ],
   "metadata": {}
  },
  {
   "cell_type": "code",
   "execution_count": 51,
   "source": [
    "from sklearn.metrics import roc_auc_score\n",
    "\n",
    "def report_auc(clf, X_train, y_train, X_test, y_test):\n",
    "    proba_train = clf.predict_proba(X_train)[:,1]\n",
    "    proba_test = clf.predict_proba(X_test)[:,1]\n",
    "\n",
    "    auc_train = round(roc_auc_score(y_train, proba_train),4) \n",
    "    auc_test = round(roc_auc_score(y_test, proba_test),4)\n",
    "\n",
    "    return auc_train, auc_test\n"
   ],
   "outputs": [],
   "metadata": {}
  },
  {
   "cell_type": "code",
   "execution_count": 52,
   "source": [
    "from memo import memlist, time_taken\n",
    "\n",
    "data = []\n",
    "\n",
    "@memlist(data=data)\n",
    "@time_taken()\n",
    "def fit_eval_record(clf, name):\n",
    "    \n",
    "    clf.fit(X_train, y_train)\n",
    "    auc_train, auc_test = report_auc(clf, X_train, y_train, X_test, y_test)\n",
    "\n",
    "    return {'auc_train': auc_train, 'auc_test': auc_test}"
   ],
   "outputs": [],
   "metadata": {}
  },
  {
   "cell_type": "markdown",
   "source": [
    "## Baseline"
   ],
   "metadata": {}
  },
  {
   "cell_type": "code",
   "execution_count": 63,
   "source": [
    "from skorecard import Skorecard\n",
    "\n",
    "scorecard = Skorecard()\n",
    "fit_eval_record(scorecard, name=\"skorecard.Scorecard\")\n",
    "\n",
    "# old 0.7179\n",
    "# WOEEn 0.766\n"
   ],
   "outputs": [
    {
     "output_type": "stream",
     "name": "stderr",
     "text": [
      "/Users/ue86yw/Developer/miniconda3/envs/py38/lib/python3.8/site-packages/category_encoders/utils.py:21: FutureWarning: is_categorical is deprecated and will be removed in a future version.  Use is_categorical_dtype instead\n",
      "  elif pd.api.types.is_categorical(cols):\n"
     ]
    },
    {
     "output_type": "execute_result",
     "data": {
      "text/plain": [
       "{'auc_train': 0.7727, 'auc_test': 0.766, 'time_taken': 7.29}"
      ]
     },
     "metadata": {},
     "execution_count": 63
    }
   ],
   "metadata": {}
  },
  {
   "cell_type": "code",
   "execution_count": 62,
   "source": [
    "# from sklearn.pipeline import make_pipeline\n",
    "# from sklearn.linear_model import LogisticRegression\n",
    "# from skorecard.preprocessing import WoeEncoder\n",
    "# from skorecard.bucketers import DecisionTreeBucketer, OptimalBucketer\n",
    "# from category_encoders.woe import WOEEncoder\n",
    "\n",
    "# pipe = make_pipeline(\n",
    "#     DecisionTreeBucketer(),\n",
    "#     OptimalBucketer(),\n",
    "#     #WoeEncoder(),\n",
    "#     WOEEncoder(cols=X_train.columns),\n",
    "#     LogisticRegression(solver=\"lbfgs\", max_iter=400)\n",
    "# )\n",
    "\n",
    "# fit_eval_record(pipe, name=\"pipeline\")\n",
    "\n",
    "# # .7166 with skorecard woe in 3.7s\n",
    "# # 0.758 with no WOE in 3.9s\n",
    "# # 0.7661 with WOE on all cols."
   ],
   "outputs": [
    {
     "output_type": "stream",
     "name": "stderr",
     "text": [
      "/Users/ue86yw/Developer/miniconda3/envs/py38/lib/python3.8/site-packages/category_encoders/utils.py:21: FutureWarning: is_categorical is deprecated and will be removed in a future version.  Use is_categorical_dtype instead\n",
      "  elif pd.api.types.is_categorical(cols):\n"
     ]
    },
    {
     "output_type": "execute_result",
     "data": {
      "text/plain": [
       "{'auc_train': 0.7726, 'auc_test': 0.7661, 'time_taken': 3.97}"
      ]
     },
     "metadata": {},
     "execution_count": 62
    }
   ],
   "metadata": {}
  },
  {
   "cell_type": "markdown",
   "source": [
    "## Optbinning\n",
    "\n",
    "http://gnpalencia.org/optbinning/"
   ],
   "metadata": {}
  },
  {
   "cell_type": "code",
   "execution_count": null,
   "source": [
    "from optbinning import BinningProcess\n",
    "from optbinning import Scorecard\n",
    "from sklearn.linear_model import LogisticRegression\n",
    "import pandas as pd\n",
    "\n",
    "selection_criteria = {\n",
    "    \"iv\": {\"min\": 0.02, \"max\": 1},\n",
    "    \"quality_score\": {\"min\": 0.01}\n",
    "}\n",
    "binning_process = BinningProcess(variable_names = list(X_train.columns), selection_criteria=selection_criteria)\n",
    "\n",
    "estimator = LogisticRegression(solver=\"lbfgs\")\n",
    "\n",
    "opt_scorecard = Scorecard(binning_process=binning_process,\n",
    "                      estimator=estimator, scaling_method=\"min_max\",\n",
    "                      scaling_method_params={\"min\": 300, \"max\": 850})\n",
    "\n",
    "\n",
    "fit_eval_record(opt_scorecard, name=\"optbinning.Scorecard\")"
   ],
   "outputs": [],
   "metadata": {}
  },
  {
   "cell_type": "markdown",
   "source": [
    "## Basic LR"
   ],
   "metadata": {}
  },
  {
   "cell_type": "code",
   "execution_count": null,
   "source": [
    "from sklearn.linear_model import LogisticRegression\n",
    "from sklearn.preprocessing import StandardScaler\n",
    "from sklearn.pipeline import make_pipeline\n",
    "\n",
    "pipe = make_pipeline(\n",
    "    StandardScaler(),\n",
    "    LogisticRegression(random_state=42, solver=\"lbfgs\")\n",
    ")\n",
    "\n",
    "fit_eval_record(pipe, name=\"sklearn.LogisticRegression\")"
   ],
   "outputs": [],
   "metadata": {}
  },
  {
   "cell_type": "markdown",
   "source": [
    "## LightGBM model\n",
    "\n",
    "https://lightgbm.readthedocs.io/en/latest/pythonapi/lightgbm.LGBMClassifier.html"
   ],
   "metadata": {}
  },
  {
   "cell_type": "code",
   "execution_count": null,
   "source": [
    "from lightgbm import LGBMClassifier\n",
    "\n",
    "clf = LGBMClassifier(random_state=42, max_depth=10, learning_rate=0.01)\n",
    "\n",
    "fit_eval_record(clf, name=\"LightGBM\")"
   ],
   "outputs": [],
   "metadata": {}
  },
  {
   "cell_type": "markdown",
   "source": [
    "## Results"
   ],
   "metadata": {}
  },
  {
   "cell_type": "code",
   "execution_count": null,
   "source": [
    "pd.DataFrame(data).sort_values('auc_test', ascending=False)"
   ],
   "outputs": [],
   "metadata": {}
  },
  {
   "cell_type": "markdown",
   "source": [],
   "metadata": {}
  }
 ],
 "metadata": {
  "orig_nbformat": 4,
  "language_info": {
   "name": "python",
   "version": "3.8.5",
   "mimetype": "text/x-python",
   "codemirror_mode": {
    "name": "ipython",
    "version": 3
   },
   "pygments_lexer": "ipython3",
   "nbconvert_exporter": "python",
   "file_extension": ".py"
  },
  "kernelspec": {
   "name": "python3",
   "display_name": "Python 3.8.5 64-bit ('py38': conda)"
  },
  "interpreter": {
   "hash": "358a4423f52aa1f7341f935cecae218fabcbaaa95ea1661253f2b730112d1496"
  }
 },
 "nbformat": 4,
 "nbformat_minor": 2
}