{
 "cells": [
  {
   "cell_type": "markdown",
   "source": [
    "# Benchmarks\n",
    "\n",
    "Against some alternatives.\n",
    "\n",
    "## Data\n",
    "\n",
    "UCI Credit card dataset with 30k rows and 23 features."
   ],
   "metadata": {}
  },
  {
   "cell_type": "code",
   "execution_count": 1,
   "source": [
    "import pandas as pd\n",
    "from skorecard.datasets import load_credit_card\n",
    "from sklearn.model_selection import train_test_split\n",
    "\n",
    "data = load_credit_card(as_frame=True)\n",
    "print(f\"data shape: {data.shape}\")\n",
    "\n",
    "X_train, X_test, y_train, y_test = train_test_split(\n",
    "    data.drop(['y'], axis=1),\n",
    "    data['y'], \n",
    "    test_size=0.25, \n",
    "    random_state=42\n",
    ")\n",
    "\n",
    "# different format also\n",
    "df_train = X_train.copy()\n",
    "df_train['y'] = y_train"
   ],
   "outputs": [
    {
     "output_type": "stream",
     "name": "stdout",
     "text": [
      "data shape: (30000, 24)\n"
     ]
    }
   ],
   "metadata": {}
  },
  {
   "cell_type": "markdown",
   "source": [
    "## Experiment setup"
   ],
   "metadata": {}
  },
  {
   "cell_type": "code",
   "execution_count": 2,
   "source": [
    "from sklearn.metrics import roc_auc_score\n",
    "\n",
    "def report_auc(clf, X_train, y_train, X_test, y_test):\n",
    "    proba_train = clf.predict_proba(X_train)[:,1]\n",
    "    proba_test = clf.predict_proba(X_test)[:,1]\n",
    "\n",
    "    auc_train = round(roc_auc_score(y_train, proba_train),4) \n",
    "    auc_test = round(roc_auc_score(y_test, proba_test),4)\n",
    "\n",
    "    return auc_train, auc_test\n"
   ],
   "outputs": [],
   "metadata": {}
  },
  {
   "cell_type": "code",
   "execution_count": 3,
   "source": [
    "from memo import memlist, time_taken\n",
    "\n",
    "data = []\n",
    "\n",
    "@memlist(data=data)\n",
    "@time_taken()\n",
    "def fit_eval_record(clf, name):\n",
    "    \n",
    "    if name == \"optbinning.Scorecard\":\n",
    "        clf.fit(df_train)\n",
    "    else:\n",
    "        clf.fit(X_train, y_train)\n",
    "\n",
    "    auc_train, auc_test = report_auc(clf, X_train, y_train, X_test, y_test)\n",
    "\n",
    "    return {'auc_train': auc_train, 'auc_test': auc_test}"
   ],
   "outputs": [],
   "metadata": {}
  },
  {
   "cell_type": "markdown",
   "source": [
    "## Baseline"
   ],
   "metadata": {}
  },
  {
   "cell_type": "code",
   "execution_count": 4,
   "source": [
    "from skorecard import Skorecard\n",
    "\n",
    "scorecard = Skorecard()\n",
    "fit_eval_record(scorecard, name=\"skorecard.Scorecard\")"
   ],
   "outputs": [
    {
     "output_type": "execute_result",
     "data": {
      "text/plain": [
       "{'auc_train': 0.7737, 'auc_test': 0.7654, 'time_taken': 9.22}"
      ]
     },
     "metadata": {},
     "execution_count": 4
    }
   ],
   "metadata": {}
  },
  {
   "cell_type": "markdown",
   "source": [
    "## Optbinning\n",
    "\n",
    "http://gnpalencia.org/optbinning/"
   ],
   "metadata": {}
  },
  {
   "cell_type": "code",
   "execution_count": 6,
   "source": [
    "from optbinning import BinningProcess\n",
    "from optbinning import Scorecard\n",
    "from sklearn.linear_model import LogisticRegression\n",
    "import pandas as pd\n",
    "\n",
    "selection_criteria = {\n",
    "    \"iv\": {\"min\": 0.02, \"max\": 1},\n",
    "    \"quality_score\": {\"min\": 0.01}\n",
    "}\n",
    "binning_process = BinningProcess(variable_names = list(X_train.columns), selection_criteria=selection_criteria)\n",
    "\n",
    "estimator = LogisticRegression(solver=\"lbfgs\")\n",
    "\n",
    "\n",
    "\n",
    "opt_scorecard = Scorecard(target=\"y\", binning_process=binning_process,\n",
    "                      estimator=estimator, scaling_method=\"min_max\",\n",
    "                      scaling_method_params={\"min\": 300, \"max\": 850})\n",
    "\n",
    "\n",
    "fit_eval_record(opt_scorecard, name=\"optbinning.Scorecard\")"
   ],
   "outputs": [
    {
     "output_type": "execute_result",
     "data": {
      "text/plain": [
       "{'auc_train': 0.7719, 'auc_test': 0.7628, 'time_taken': 1.76}"
      ]
     },
     "metadata": {},
     "execution_count": 6
    }
   ],
   "metadata": {}
  },
  {
   "cell_type": "markdown",
   "source": [
    "## Basic LR"
   ],
   "metadata": {}
  },
  {
   "cell_type": "code",
   "execution_count": 7,
   "source": [
    "from sklearn.linear_model import LogisticRegression\n",
    "from sklearn.preprocessing import StandardScaler\n",
    "from sklearn.pipeline import make_pipeline\n",
    "\n",
    "pipe = make_pipeline(\n",
    "    StandardScaler(),\n",
    "    LogisticRegression(random_state=42)\n",
    ")\n",
    "\n",
    "fit_eval_record(pipe, name=\"sklearn.LogisticRegression\")"
   ],
   "outputs": [
    {
     "output_type": "execute_result",
     "data": {
      "text/plain": [
       "{'auc_train': 0.724, 'auc_test': 0.7232, 'time_taken': 0.17}"
      ]
     },
     "metadata": {},
     "execution_count": 7
    }
   ],
   "metadata": {}
  },
  {
   "cell_type": "markdown",
   "source": [
    "## LightGBM model\n",
    "\n",
    "https://lightgbm.readthedocs.io/en/latest/pythonapi/lightgbm.LGBMClassifier.html"
   ],
   "metadata": {}
  },
  {
   "cell_type": "code",
   "execution_count": 13,
   "source": [
    "from lightgbm import LGBMClassifier\n",
    "\n",
    "clf = LGBMClassifier(random_state=42, max_depth=10, learning_rate=0.01)\n",
    "\n",
    "fit_eval_record(clf, name=\"LightGBM\")\n"
   ],
   "outputs": [
    {
     "output_type": "execute_result",
     "data": {
      "text/plain": [
       "{'auc_train': 0.8038, 'auc_test': 0.7778, 'time_taken': 0.24}"
      ]
     },
     "metadata": {},
     "execution_count": 13
    }
   ],
   "metadata": {}
  },
  {
   "cell_type": "markdown",
   "source": [
    "## Results"
   ],
   "metadata": {}
  },
  {
   "cell_type": "code",
   "execution_count": 10,
   "source": [
    "pd.DataFrame(data).sort_values('auc_test', ascending=False)"
   ],
   "outputs": [
    {
     "output_type": "execute_result",
     "data": {
      "text/plain": [
       "                         name  auc_train  auc_test  time_taken\n",
       "0         skorecard.Scorecard     0.7737    0.7654        9.22\n",
       "1        optbinning.Scorecard     0.7719    0.7628        1.76\n",
       "2  sklearn.LogisticRegression     0.7240    0.7232        0.17\n",
       "3                    LightGBM     0.7240    0.7232        0.09"
      ],
      "text/html": [
       "<div>\n",
       "<style scoped>\n",
       "    .dataframe tbody tr th:only-of-type {\n",
       "        vertical-align: middle;\n",
       "    }\n",
       "\n",
       "    .dataframe tbody tr th {\n",
       "        vertical-align: top;\n",
       "    }\n",
       "\n",
       "    .dataframe thead th {\n",
       "        text-align: right;\n",
       "    }\n",
       "</style>\n",
       "<table border=\"1\" class=\"dataframe\">\n",
       "  <thead>\n",
       "    <tr style=\"text-align: right;\">\n",
       "      <th></th>\n",
       "      <th>name</th>\n",
       "      <th>auc_train</th>\n",
       "      <th>auc_test</th>\n",
       "      <th>time_taken</th>\n",
       "    </tr>\n",
       "  </thead>\n",
       "  <tbody>\n",
       "    <tr>\n",
       "      <th>0</th>\n",
       "      <td>skorecard.Scorecard</td>\n",
       "      <td>0.7737</td>\n",
       "      <td>0.7654</td>\n",
       "      <td>9.22</td>\n",
       "    </tr>\n",
       "    <tr>\n",
       "      <th>1</th>\n",
       "      <td>optbinning.Scorecard</td>\n",
       "      <td>0.7719</td>\n",
       "      <td>0.7628</td>\n",
       "      <td>1.76</td>\n",
       "    </tr>\n",
       "    <tr>\n",
       "      <th>2</th>\n",
       "      <td>sklearn.LogisticRegression</td>\n",
       "      <td>0.7240</td>\n",
       "      <td>0.7232</td>\n",
       "      <td>0.17</td>\n",
       "    </tr>\n",
       "    <tr>\n",
       "      <th>3</th>\n",
       "      <td>LightGBM</td>\n",
       "      <td>0.7240</td>\n",
       "      <td>0.7232</td>\n",
       "      <td>0.09</td>\n",
       "    </tr>\n",
       "  </tbody>\n",
       "</table>\n",
       "</div>"
      ]
     },
     "metadata": {},
     "execution_count": 10
    }
   ],
   "metadata": {}
  },
  {
   "cell_type": "markdown",
   "source": [],
   "metadata": {}
  }
 ],
 "metadata": {
  "orig_nbformat": 4,
  "language_info": {
   "name": "python",
   "version": "3.8.5",
   "mimetype": "text/x-python",
   "codemirror_mode": {
    "name": "ipython",
    "version": 3
   },
   "pygments_lexer": "ipython3",
   "nbconvert_exporter": "python",
   "file_extension": ".py"
  },
  "kernelspec": {
   "name": "python3",
   "display_name": "Python 3.8.5 64-bit ('py38': conda)"
  },
  "interpreter": {
   "hash": "358a4423f52aa1f7341f935cecae218fabcbaaa95ea1661253f2b730112d1496"
  }
 },
 "nbformat": 4,
 "nbformat_minor": 2
}