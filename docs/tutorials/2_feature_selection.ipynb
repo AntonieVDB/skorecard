{
 "cells": [
  {
   "cell_type": "markdown",
   "metadata": {},
   "source": [
    "# Once the buckets are defined, the next step is to perform the feature selection.\n",
    "\n",
    "In building a skorecard model, there are few recommended steps to felect the features.\n",
    "\n",
    "- Calculate the information values (IV) to identify the very predictive features\n",
    "- Calculate the Population Stability Index (PSI) to identify the unstable features\n",
    "- Evaluate the multicollinearity of the features that pass the previous two steps\n",
    "\n",
    "\n",
    "## The information value IV\n",
    "The information value is defined by the following equation\n",
    "\n",
    "\n",
    "$$IV = \\sum_{i}(\\%n_{i}^{y=0} - \\%n_{i}^{y=1})\\frac{\\%n_{i}^{y=0}}{\\%n_{i}^{y=1}}$$\n",
    "\n",
    "where $i$ is the bucket index, $\\%n_{i}^{y=0}$ represents the fraction counts of target 0 in the bucket, while $\\%n_{i}^{y=1}$ represents the fraction of the counts of target 1 in the bucket $i$.\n",
    "\n",
    "The IV is a weighted sum of the Weighte of Evidences (WoE) of every bin.<br>\n",
    "The higher the value, the larger the separation between the classes: in other word the more predictive the feature is.\n",
    "As a rule of thumbs:\n",
    "- IV<0.02 non predictive features\n",
    "- 0.02 < IV < 0.1 predictive feature\n",
    "- IV > 0.1 very predictive feature\n",
    "\n",
    "## The Population Stability index (PSI)\n",
    "The PSI measures the similarity between two samples. The PSI is defined as\n",
    "\n",
    "\n",
    "$$PSI = \\sum_{i}(\\%n_{i}^{X1} - \\%n_{i}^{X2})\\frac{\\%n_{i}^{X1}}{\\%n_{i}^{X2}}$$\n",
    "\n",
    "\n",
    "where $i$ is the bucket index, $\\%n_{i}^{X1}$ represents the fraction counts of the feature in the sample X1 , while $\\%n_{i}^{y=1}$ represents the fraction counts of the feature in the sample X2 in the bucket $i$.\n",
    "It's the same definition as in the IV. However, here large values indicate a difference between two samples, therefore for the selection we look at the lower values:\n",
    "- IV < 0.02 stable features\n",
    "- 0.02 < IV < 0.1 unstable, but acceptable, feature\n",
    "- IV > 0.1 unstable feature\n",
    "\n",
    "Let's load the data as in the previous tutorials."
   ]
  },
  {
   "cell_type": "code",
   "execution_count": 1,
   "metadata": {
    "ExecuteTime": {
     "end_time": "2021-05-05T09:44:17.393727Z",
     "start_time": "2021-05-05T09:44:10.349234Z"
    }
   },
   "outputs": [],
   "source": [
    "import pandas as pd\n",
    "from skorecard.datasets import load_credit_card\n",
    "\n",
    "data = load_credit_card(as_frame=True)"
   ]
  },
  {
   "cell_type": "markdown",
   "metadata": {},
   "source": [
    "And split it into train and test data"
   ]
  },
  {
   "cell_type": "code",
   "execution_count": 2,
   "metadata": {
    "ExecuteTime": {
     "end_time": "2021-05-05T09:44:17.409267Z",
     "start_time": "2021-05-05T09:44:17.395443Z"
    }
   },
   "outputs": [],
   "source": [
    "from sklearn.model_selection import train_test_split\n",
    "\n",
    "X_train, X_test, y_train, y_test = train_test_split(\n",
    "    data.drop(['y'], axis=1),\n",
    "    data['y'], \n",
    "    test_size=0.25, \n",
    "    random_state=42\n",
    ")"
   ]
  },
  {
   "cell_type": "markdown",
   "metadata": {
    "ExecuteTime": {
     "end_time": "2021-04-28T17:48:22.358701Z",
     "start_time": "2021-04-28T17:48:22.356190Z"
    }
   },
   "source": [
    "## Load the saved buckets"
   ]
  },
  {
   "cell_type": "code",
   "execution_count": 3,
   "metadata": {
    "ExecuteTime": {
     "end_time": "2021-05-05T09:44:20.204149Z",
     "start_time": "2021-05-05T09:44:20.155033Z"
    }
   },
   "outputs": [],
   "source": [
    "import yaml\n",
    "\n",
    "buckets_dict = yaml.safe_load(open(\"buckets.yml\",'r'))\n"
   ]
  },
  {
   "cell_type": "markdown",
   "metadata": {
    "ExecuteTime": {
     "end_time": "2021-04-28T17:49:13.533075Z",
     "start_time": "2021-04-28T17:49:13.521100Z"
    }
   },
   "source": [
    "Define the bucketer, using the `UserInputBucketer`"
   ]
  },
  {
   "cell_type": "code",
   "execution_count": 4,
   "metadata": {
    "ExecuteTime": {
     "end_time": "2021-05-05T09:45:03.352991Z",
     "start_time": "2021-05-05T09:45:03.348709Z"
    }
   },
   "outputs": [],
   "source": [
    "from skorecard.bucketers import UserInputBucketer\n",
    "\n",
    "uib = UserInputBucketer(buckets_dict)"
   ]
  },
  {
   "cell_type": "code",
   "execution_count": 5,
   "metadata": {
    "ExecuteTime": {
     "end_time": "2021-05-05T09:45:14.277095Z",
     "start_time": "2021-05-05T09:45:13.694473Z"
    }
   },
   "outputs": [],
   "source": [
    "X_train_bins = uib.fit_transform(X_train,y_train)\n",
    "X_test_bins = uib.transform(X_test)"
   ]
  },
  {
   "cell_type": "code",
   "execution_count": 6,
   "metadata": {
    "ExecuteTime": {
     "end_time": "2021-05-05T09:45:21.670627Z",
     "start_time": "2021-05-05T09:45:21.630880Z"
    }
   },
   "outputs": [
    {
     "data": {
      "text/html": [
       "<div>\n",
       "<style scoped>\n",
       "    .dataframe tbody tr th:only-of-type {\n",
       "        vertical-align: middle;\n",
       "    }\n",
       "\n",
       "    .dataframe tbody tr th {\n",
       "        vertical-align: top;\n",
       "    }\n",
       "\n",
       "    .dataframe thead th {\n",
       "        text-align: right;\n",
       "    }\n",
       "</style>\n",
       "<table border=\"1\" class=\"dataframe\">\n",
       "  <thead>\n",
       "    <tr style=\"text-align: right;\">\n",
       "      <th></th>\n",
       "      <th>x1</th>\n",
       "      <th>x2</th>\n",
       "      <th>x3</th>\n",
       "      <th>x4</th>\n",
       "      <th>x5</th>\n",
       "      <th>x6</th>\n",
       "      <th>x7</th>\n",
       "      <th>x8</th>\n",
       "      <th>x9</th>\n",
       "      <th>x10</th>\n",
       "      <th>...</th>\n",
       "      <th>x14</th>\n",
       "      <th>x15</th>\n",
       "      <th>x16</th>\n",
       "      <th>x17</th>\n",
       "      <th>x18</th>\n",
       "      <th>x19</th>\n",
       "      <th>x20</th>\n",
       "      <th>x21</th>\n",
       "      <th>x22</th>\n",
       "      <th>x23</th>\n",
       "    </tr>\n",
       "  </thead>\n",
       "  <tbody>\n",
       "    <tr>\n",
       "      <th>21177</th>\n",
       "      <td>2</td>\n",
       "      <td>1</td>\n",
       "      <td>2</td>\n",
       "      <td>0</td>\n",
       "      <td>1</td>\n",
       "      <td>1</td>\n",
       "      <td>0</td>\n",
       "      <td>0</td>\n",
       "      <td>0</td>\n",
       "      <td>0</td>\n",
       "      <td>...</td>\n",
       "      <td>0</td>\n",
       "      <td>0</td>\n",
       "      <td>3</td>\n",
       "      <td>3</td>\n",
       "      <td>1</td>\n",
       "      <td>1</td>\n",
       "      <td>1</td>\n",
       "      <td>2</td>\n",
       "      <td>2</td>\n",
       "      <td>2</td>\n",
       "    </tr>\n",
       "    <tr>\n",
       "      <th>23942</th>\n",
       "      <td>0</td>\n",
       "      <td>1</td>\n",
       "      <td>1</td>\n",
       "      <td>0</td>\n",
       "      <td>0</td>\n",
       "      <td>1</td>\n",
       "      <td>0</td>\n",
       "      <td>0</td>\n",
       "      <td>0</td>\n",
       "      <td>0</td>\n",
       "      <td>...</td>\n",
       "      <td>0</td>\n",
       "      <td>0</td>\n",
       "      <td>2</td>\n",
       "      <td>2</td>\n",
       "      <td>1</td>\n",
       "      <td>1</td>\n",
       "      <td>1</td>\n",
       "      <td>3</td>\n",
       "      <td>2</td>\n",
       "      <td>1</td>\n",
       "    </tr>\n",
       "    <tr>\n",
       "      <th>1247</th>\n",
       "      <td>1</td>\n",
       "      <td>0</td>\n",
       "      <td>1</td>\n",
       "      <td>0</td>\n",
       "      <td>1</td>\n",
       "      <td>0</td>\n",
       "      <td>0</td>\n",
       "      <td>0</td>\n",
       "      <td>0</td>\n",
       "      <td>0</td>\n",
       "      <td>...</td>\n",
       "      <td>0</td>\n",
       "      <td>0</td>\n",
       "      <td>0</td>\n",
       "      <td>0</td>\n",
       "      <td>1</td>\n",
       "      <td>0</td>\n",
       "      <td>0</td>\n",
       "      <td>0</td>\n",
       "      <td>0</td>\n",
       "      <td>0</td>\n",
       "    </tr>\n",
       "    <tr>\n",
       "      <th>23622</th>\n",
       "      <td>2</td>\n",
       "      <td>0</td>\n",
       "      <td>1</td>\n",
       "      <td>1</td>\n",
       "      <td>2</td>\n",
       "      <td>2</td>\n",
       "      <td>0</td>\n",
       "      <td>0</td>\n",
       "      <td>0</td>\n",
       "      <td>0</td>\n",
       "      <td>...</td>\n",
       "      <td>0</td>\n",
       "      <td>0</td>\n",
       "      <td>0</td>\n",
       "      <td>0</td>\n",
       "      <td>0</td>\n",
       "      <td>0</td>\n",
       "      <td>0</td>\n",
       "      <td>0</td>\n",
       "      <td>0</td>\n",
       "      <td>0</td>\n",
       "    </tr>\n",
       "    <tr>\n",
       "      <th>28454</th>\n",
       "      <td>0</td>\n",
       "      <td>0</td>\n",
       "      <td>1</td>\n",
       "      <td>0</td>\n",
       "      <td>2</td>\n",
       "      <td>1</td>\n",
       "      <td>0</td>\n",
       "      <td>0</td>\n",
       "      <td>0</td>\n",
       "      <td>0</td>\n",
       "      <td>...</td>\n",
       "      <td>0</td>\n",
       "      <td>0</td>\n",
       "      <td>2</td>\n",
       "      <td>2</td>\n",
       "      <td>1</td>\n",
       "      <td>1</td>\n",
       "      <td>1</td>\n",
       "      <td>1</td>\n",
       "      <td>1</td>\n",
       "      <td>1</td>\n",
       "    </tr>\n",
       "    <tr>\n",
       "      <th>...</th>\n",
       "      <td>...</td>\n",
       "      <td>...</td>\n",
       "      <td>...</td>\n",
       "      <td>...</td>\n",
       "      <td>...</td>\n",
       "      <td>...</td>\n",
       "      <td>...</td>\n",
       "      <td>...</td>\n",
       "      <td>...</td>\n",
       "      <td>...</td>\n",
       "      <td>...</td>\n",
       "      <td>...</td>\n",
       "      <td>...</td>\n",
       "      <td>...</td>\n",
       "      <td>...</td>\n",
       "      <td>...</td>\n",
       "      <td>...</td>\n",
       "      <td>...</td>\n",
       "      <td>...</td>\n",
       "      <td>...</td>\n",
       "      <td>...</td>\n",
       "    </tr>\n",
       "    <tr>\n",
       "      <th>29802</th>\n",
       "      <td>-3</td>\n",
       "      <td>1</td>\n",
       "      <td>1</td>\n",
       "      <td>0</td>\n",
       "      <td>1</td>\n",
       "      <td>1</td>\n",
       "      <td>0</td>\n",
       "      <td>0</td>\n",
       "      <td>0</td>\n",
       "      <td>0</td>\n",
       "      <td>...</td>\n",
       "      <td>0</td>\n",
       "      <td>0</td>\n",
       "      <td>2</td>\n",
       "      <td>1</td>\n",
       "      <td>1</td>\n",
       "      <td>1</td>\n",
       "      <td>1</td>\n",
       "      <td>1</td>\n",
       "      <td>1</td>\n",
       "      <td>3</td>\n",
       "    </tr>\n",
       "    <tr>\n",
       "      <th>5390</th>\n",
       "      <td>2</td>\n",
       "      <td>1</td>\n",
       "      <td>0</td>\n",
       "      <td>0</td>\n",
       "      <td>2</td>\n",
       "      <td>3</td>\n",
       "      <td>1</td>\n",
       "      <td>1</td>\n",
       "      <td>1</td>\n",
       "      <td>1</td>\n",
       "      <td>...</td>\n",
       "      <td>0</td>\n",
       "      <td>0</td>\n",
       "      <td>3</td>\n",
       "      <td>3</td>\n",
       "      <td>2</td>\n",
       "      <td>2</td>\n",
       "      <td>0</td>\n",
       "      <td>3</td>\n",
       "      <td>2</td>\n",
       "      <td>2</td>\n",
       "    </tr>\n",
       "    <tr>\n",
       "      <th>860</th>\n",
       "      <td>-3</td>\n",
       "      <td>1</td>\n",
       "      <td>0</td>\n",
       "      <td>0</td>\n",
       "      <td>1</td>\n",
       "      <td>0</td>\n",
       "      <td>0</td>\n",
       "      <td>0</td>\n",
       "      <td>0</td>\n",
       "      <td>0</td>\n",
       "      <td>...</td>\n",
       "      <td>0</td>\n",
       "      <td>0</td>\n",
       "      <td>0</td>\n",
       "      <td>0</td>\n",
       "      <td>0</td>\n",
       "      <td>0</td>\n",
       "      <td>0</td>\n",
       "      <td>0</td>\n",
       "      <td>0</td>\n",
       "      <td>0</td>\n",
       "    </tr>\n",
       "    <tr>\n",
       "      <th>15795</th>\n",
       "      <td>0</td>\n",
       "      <td>0</td>\n",
       "      <td>1</td>\n",
       "      <td>0</td>\n",
       "      <td>0</td>\n",
       "      <td>1</td>\n",
       "      <td>0</td>\n",
       "      <td>0</td>\n",
       "      <td>0</td>\n",
       "      <td>1</td>\n",
       "      <td>...</td>\n",
       "      <td>0</td>\n",
       "      <td>0</td>\n",
       "      <td>2</td>\n",
       "      <td>2</td>\n",
       "      <td>1</td>\n",
       "      <td>1</td>\n",
       "      <td>1</td>\n",
       "      <td>1</td>\n",
       "      <td>0</td>\n",
       "      <td>1</td>\n",
       "    </tr>\n",
       "    <tr>\n",
       "      <th>23654</th>\n",
       "      <td>2</td>\n",
       "      <td>0</td>\n",
       "      <td>1</td>\n",
       "      <td>1</td>\n",
       "      <td>2</td>\n",
       "      <td>0</td>\n",
       "      <td>0</td>\n",
       "      <td>0</td>\n",
       "      <td>0</td>\n",
       "      <td>0</td>\n",
       "      <td>...</td>\n",
       "      <td>0</td>\n",
       "      <td>0</td>\n",
       "      <td>1</td>\n",
       "      <td>2</td>\n",
       "      <td>0</td>\n",
       "      <td>1</td>\n",
       "      <td>1</td>\n",
       "      <td>2</td>\n",
       "      <td>3</td>\n",
       "      <td>1</td>\n",
       "    </tr>\n",
       "  </tbody>\n",
       "</table>\n",
       "<p>22500 rows × 23 columns</p>\n",
       "</div>"
      ],
      "text/plain": [
       "       x1  x2  x3  x4  x5  x6  x7  x8  x9  x10  ...  x14  x15  x16  x17  x18  \\\n",
       "21177   2   1   2   0   1   1   0   0   0    0  ...    0    0    3    3    1   \n",
       "23942   0   1   1   0   0   1   0   0   0    0  ...    0    0    2    2    1   \n",
       "1247    1   0   1   0   1   0   0   0   0    0  ...    0    0    0    0    1   \n",
       "23622   2   0   1   1   2   2   0   0   0    0  ...    0    0    0    0    0   \n",
       "28454   0   0   1   0   2   1   0   0   0    0  ...    0    0    2    2    1   \n",
       "...    ..  ..  ..  ..  ..  ..  ..  ..  ..  ...  ...  ...  ...  ...  ...  ...   \n",
       "29802  -3   1   1   0   1   1   0   0   0    0  ...    0    0    2    1    1   \n",
       "5390    2   1   0   0   2   3   1   1   1    1  ...    0    0    3    3    2   \n",
       "860    -3   1   0   0   1   0   0   0   0    0  ...    0    0    0    0    0   \n",
       "15795   0   0   1   0   0   1   0   0   0    1  ...    0    0    2    2    1   \n",
       "23654   2   0   1   1   2   0   0   0   0    0  ...    0    0    1    2    0   \n",
       "\n",
       "       x19  x20  x21  x22  x23  \n",
       "21177    1    1    2    2    2  \n",
       "23942    1    1    3    2    1  \n",
       "1247     0    0    0    0    0  \n",
       "23622    0    0    0    0    0  \n",
       "28454    1    1    1    1    1  \n",
       "...    ...  ...  ...  ...  ...  \n",
       "29802    1    1    1    1    3  \n",
       "5390     2    0    3    2    2  \n",
       "860      0    0    0    0    0  \n",
       "15795    1    1    1    0    1  \n",
       "23654    1    1    2    3    1  \n",
       "\n",
       "[22500 rows x 23 columns]"
      ]
     },
     "execution_count": 6,
     "metadata": {},
     "output_type": "execute_result"
    }
   ],
   "source": [
    "X_train_bins"
   ]
  },
  {
   "cell_type": "code",
   "execution_count": 7,
   "metadata": {
    "ExecuteTime": {
     "end_time": "2021-05-05T09:45:28.180205Z",
     "start_time": "2021-05-05T09:45:28.167866Z"
    }
   },
   "outputs": [
    {
     "data": {
      "text/html": [
       "<div>\n",
       "<style scoped>\n",
       "    .dataframe tbody tr th:only-of-type {\n",
       "        vertical-align: middle;\n",
       "    }\n",
       "\n",
       "    .dataframe tbody tr th {\n",
       "        vertical-align: top;\n",
       "    }\n",
       "\n",
       "    .dataframe thead th {\n",
       "        text-align: right;\n",
       "    }\n",
       "</style>\n",
       "<table border=\"1\" class=\"dataframe\">\n",
       "  <thead>\n",
       "    <tr style=\"text-align: right;\">\n",
       "      <th></th>\n",
       "      <th>bucket</th>\n",
       "      <th>label</th>\n",
       "      <th>Count</th>\n",
       "      <th>Count (%)</th>\n",
       "      <th>Non-event</th>\n",
       "      <th>Event</th>\n",
       "      <th>Event Rate</th>\n",
       "      <th>WoE</th>\n",
       "      <th>IV</th>\n",
       "    </tr>\n",
       "  </thead>\n",
       "  <tbody>\n",
       "    <tr>\n",
       "      <th>0</th>\n",
       "      <td>-3</td>\n",
       "      <td>Special: special_demo</td>\n",
       "      <td>2510.0</td>\n",
       "      <td>11.16</td>\n",
       "      <td>1848.0</td>\n",
       "      <td>662.0</td>\n",
       "      <td>0.263745</td>\n",
       "      <td>-0.224</td>\n",
       "      <td>-0.006</td>\n",
       "    </tr>\n",
       "    <tr>\n",
       "      <th>1</th>\n",
       "      <td>-1</td>\n",
       "      <td>Missing</td>\n",
       "      <td>0.0</td>\n",
       "      <td>0.00</td>\n",
       "      <td>0.0</td>\n",
       "      <td>0.0</td>\n",
       "      <td>NaN</td>\n",
       "      <td>0.000</td>\n",
       "      <td>0.000</td>\n",
       "    </tr>\n",
       "    <tr>\n",
       "      <th>2</th>\n",
       "      <td>0</td>\n",
       "      <td>[-inf, 75000.0)</td>\n",
       "      <td>4399.0</td>\n",
       "      <td>19.55</td>\n",
       "      <td>2880.0</td>\n",
       "      <td>1519.0</td>\n",
       "      <td>0.345306</td>\n",
       "      <td>-0.611</td>\n",
       "      <td>-0.085</td>\n",
       "    </tr>\n",
       "    <tr>\n",
       "      <th>3</th>\n",
       "      <td>1</td>\n",
       "      <td>[75000.0, 145000.0)</td>\n",
       "      <td>4567.0</td>\n",
       "      <td>20.30</td>\n",
       "      <td>3494.0</td>\n",
       "      <td>1073.0</td>\n",
       "      <td>0.234946</td>\n",
       "      <td>-0.070</td>\n",
       "      <td>-0.001</td>\n",
       "    </tr>\n",
       "    <tr>\n",
       "      <th>4</th>\n",
       "      <td>2</td>\n",
       "      <td>[145000.0, 375000.0)</td>\n",
       "      <td>9230.0</td>\n",
       "      <td>41.02</td>\n",
       "      <td>7685.0</td>\n",
       "      <td>1545.0</td>\n",
       "      <td>0.167389</td>\n",
       "      <td>0.354</td>\n",
       "      <td>-0.046</td>\n",
       "    </tr>\n",
       "    <tr>\n",
       "      <th>5</th>\n",
       "      <td>3</td>\n",
       "      <td>[375000.0, inf)</td>\n",
       "      <td>1794.0</td>\n",
       "      <td>7.97</td>\n",
       "      <td>1584.0</td>\n",
       "      <td>210.0</td>\n",
       "      <td>0.117057</td>\n",
       "      <td>0.770</td>\n",
       "      <td>-0.037</td>\n",
       "    </tr>\n",
       "  </tbody>\n",
       "</table>\n",
       "</div>"
      ],
      "text/plain": [
       "   bucket                  label   Count  Count (%)  Non-event   Event  \\\n",
       "0      -3  Special: special_demo  2510.0      11.16     1848.0   662.0   \n",
       "1      -1                Missing     0.0       0.00        0.0     0.0   \n",
       "2       0        [-inf, 75000.0)  4399.0      19.55     2880.0  1519.0   \n",
       "3       1    [75000.0, 145000.0)  4567.0      20.30     3494.0  1073.0   \n",
       "4       2   [145000.0, 375000.0)  9230.0      41.02     7685.0  1545.0   \n",
       "5       3        [375000.0, inf)  1794.0       7.97     1584.0   210.0   \n",
       "\n",
       "   Event Rate    WoE     IV  \n",
       "0    0.263745 -0.224 -0.006  \n",
       "1         NaN  0.000  0.000  \n",
       "2    0.345306 -0.611 -0.085  \n",
       "3    0.234946 -0.070 -0.001  \n",
       "4    0.167389  0.354 -0.046  \n",
       "5    0.117057  0.770 -0.037  "
      ]
     },
     "execution_count": 7,
     "metadata": {},
     "output_type": "execute_result"
    }
   ],
   "source": [
    "uib.bucket_table('x1')"
   ]
  },
  {
   "cell_type": "markdown",
   "metadata": {},
   "source": [
    "### Calculating the Information Value\n",
    "\n",
    "The information value can be calculated by the `iv` function in the reporting module.\n"
   ]
  },
  {
   "cell_type": "code",
   "execution_count": 8,
   "metadata": {},
   "outputs": [
    {
     "data": {
      "text/plain": [
       "x6     0.881380\n",
       "x7     0.567571\n",
       "x8     0.431407\n",
       "x9     0.370131\n",
       "x10    0.333630\n",
       "dtype: float64"
      ]
     },
     "execution_count": 8,
     "metadata": {},
     "output_type": "execute_result"
    }
   ],
   "source": [
    "from skorecard.reporting import iv\n",
    "\n",
    "iv_dict = iv(X_train_bins, y_train)\n",
    "\n",
    "iv_values = pd.Series(iv_dict).sort_values(ascending=False) # sort them by predicting power\n",
    "iv_values.head(5)"
   ]
  },
  {
   "cell_type": "markdown",
   "metadata": {},
   "source": [
    "Using the definitions from the beginning of this tutorial, we can select the features where the IV values is above 0.02"
   ]
  },
  {
   "cell_type": "code",
   "execution_count": 9,
   "metadata": {},
   "outputs": [
    {
     "name": "stdout",
     "output_type": "stream",
     "text": [
      "Total selected features by IV: 16\n"
     ]
    }
   ],
   "source": [
    "preselected_features = iv_values[iv_values > 0.02].index.tolist()\n",
    "print(f\"Total selected features by IV: {len(preselected_features)}\")"
   ]
  },
  {
   "cell_type": "markdown",
   "metadata": {
    "ExecuteTime": {
     "end_time": "2021-04-28T17:53:39.803831Z",
     "start_time": "2021-04-28T17:53:39.801604Z"
    }
   },
   "source": [
    "## Calculate the PSI\n",
    "\n",
    "Similar to the IV, by using the `psi` function in the report module.\n"
   ]
  },
  {
   "cell_type": "code",
   "execution_count": 10,
   "metadata": {
    "ExecuteTime": {
     "end_time": "2021-05-05T09:45:56.805681Z",
     "start_time": "2021-05-05T09:45:56.633569Z"
    }
   },
   "outputs": [
    {
     "data": {
      "text/plain": [
       "x6     0.000996\n",
       "x2     0.000702\n",
       "x12    0.000697\n",
       "x19    0.000443\n",
       "x21    0.000357\n",
       "dtype: float64"
      ]
     },
     "execution_count": 10,
     "metadata": {},
     "output_type": "execute_result"
    }
   ],
   "source": [
    "from skorecard.reporting import psi\n",
    "psi_dict = psi(X_train_bins, X_test_bins)\n",
    "\n",
    "psi_values = pd.Series(psi_dict)\n",
    "psi_values.sort_values(ascending=False).head(5)"
   ]
  },
  {
   "cell_type": "markdown",
   "metadata": {
    "ExecuteTime": {
     "end_time": "2021-05-05T09:47:45.352869Z",
     "start_time": "2021-05-05T09:47:45.348836Z"
    }
   },
   "source": [
    "In this particular case, all the features have a very low PSI, hence no instability is present and no feature selection is performed."
   ]
  },
  {
   "cell_type": "markdown",
   "metadata": {},
   "source": [
    "## Removing multi-collinear features\n",
    "\n",
    "A skorecard model is based on a logistic regression algorithm.<br>\n",
    "Logistic regression suffers from multi-collinearity (i.e. highly correlated features) by design.<br>\n",
    "\n",
    "There are multiple ways of measuring it (VIF, correlations)...<br> \n",
    "\n",
    "Here we are showing the approach with correlations.<br>\n",
    "\n",
    "First, let's build an easy visualization function"
   ]
  },
  {
   "cell_type": "code",
   "execution_count": 11,
   "metadata": {
    "ExecuteTime": {
     "end_time": "2021-05-05T09:48:05.027175Z",
     "start_time": "2021-05-05T09:48:04.713760Z"
    }
   },
   "outputs": [],
   "source": [
    "import numpy as np\n",
    "import matplotlib.pyplot as plt\n",
    "import seaborn as sns\n",
    "%matplotlib inline\n",
    "\n",
    "\n",
    "def plot_correlations(corr):\n",
    "    plt.figure(figsize=(10, 8), constrained_layout=True)\n",
    "\n",
    "    cmap = plt.cm.get_cmap(\"RdBu\")\n",
    "    matrix = np.triu(corr)\n",
    "    sns.heatmap(corr, vmin=-1, vmax=1, annot=True, mask=matrix, cmap=cmap, annot_kws={\"fontsize\": 6})"
   ]
  },
  {
   "cell_type": "markdown",
   "metadata": {},
   "source": [
    "### Adding the WoE Encoder\n",
    "\n",
    "A default scorecard model is defined by the following steps:\n",
    "- bucketing\n",
    "- encoder (a default one is a WoE encoder)\n",
    "- logistic regression model\n",
    "\n",
    "As the input of the logistic regression model is the dataset transformed to its Woe, first let's build the pipline with the first two steps and transform the dataseet"
   ]
  },
  {
   "cell_type": "code",
   "execution_count": 12,
   "metadata": {
    "ExecuteTime": {
     "end_time": "2021-05-05T09:48:21.633371Z",
     "start_time": "2021-05-05T09:48:21.631107Z"
    }
   },
   "outputs": [],
   "source": [
    "from skorecard.preprocessing import WoeEncoder\n",
    "from sklearn.pipeline import make_pipeline\n",
    "woe_pipe = make_pipeline(\n",
    "    uib,\n",
    "    WoeEncoder()\n",
    ")"
   ]
  },
  {
   "cell_type": "code",
   "execution_count": 13,
   "metadata": {
    "ExecuteTime": {
     "end_time": "2021-05-05T09:48:22.659523Z",
     "start_time": "2021-05-05T09:48:22.015060Z"
    }
   },
   "outputs": [],
   "source": [
    "X_train_woe = woe_pipe.fit_transform(X_train, y_train)"
   ]
  },
  {
   "cell_type": "code",
   "execution_count": 14,
   "metadata": {
    "ExecuteTime": {
     "end_time": "2021-05-05T09:48:22.703205Z",
     "start_time": "2021-05-05T09:48:22.661784Z"
    }
   },
   "outputs": [
    {
     "data": {
      "image/png": "[encoded data removed]",
      "text/plain": [
       "<Figure size 720x576 with 2 Axes>"
      ]
     },
     "metadata": {
      "needs_background": "light"
     },
     "output_type": "display_data"
    }
   ],
   "source": [
    "X_train_corr = X_train_woe[preselected_features].corr()\n",
    "plot_correlations(X_train_corr)"
   ]
  },
  {
   "cell_type": "markdown",
   "metadata": {},
   "source": [
    "As a rule of thumb, correlations above 0.6 can be considered problematic for the logisitc regression model (this threshold might depend heeavily on dataset and use case).<br>\n",
    "\n",
    "The following code snippet illustrates a recursive feature elimination step, where features are sorted by their IV importance, and correlated features with lower IV importance are removed"
   ]
  },
  {
   "cell_type": "code",
   "execution_count": 15,
   "metadata": {
    "ExecuteTime": {
     "end_time": "2021-05-05T09:50:26.337264Z",
     "start_time": "2021-05-05T09:50:26.321842Z"
    }
   },
   "outputs": [
    {
     "name": "stdout",
     "output_type": "stream",
     "text": [
      "Total preselected features: 16\n",
      "Total features dropped due too high correlations: 3\n",
      "Total selected features: 13\n"
     ]
    }
   ],
   "source": [
    "corr_limit = 0.6 # correlation threshold\n",
    "\n",
    "drop_feats =list()\n",
    "\n",
    "# keep_feats = list()\n",
    "\n",
    "for ix, feature in enumerate(preselected_features):\n",
    "    if feature in drop_feats: continue\n",
    "    \n",
    "    remaining_features = [feat for feat in preselected_features[ix:] #check the next feature in the preselected step\n",
    "                          if feat not in drop_feats and feat!=feature\n",
    "                         ]\n",
    "    if len(remaining_features)==0: continue # go to the next step if the features at step x have already been removeed\n",
    "   \n",
    "    # find the correlated features with the remaining preselected features\n",
    "    # both positive and negative correlations matter, hence the abs()\n",
    "    corr_feats = X_train_corr.loc[remaining_features,feature].apply(lambda x: abs(x))\n",
    "    \n",
    "    drop_at_step = corr_feats[corr_feats>corr_limit].index.tolist()\n",
    "    \n",
    "    # append the new features to the list\n",
    "    drop_feats+= drop_at_step\n",
    "\n",
    "# Select thee features with low correlations\n",
    "good_feats = [feat for feat in preselected_features if feat not in drop_feats]\n",
    "\n",
    "print(f\"Total preselected features: {len(preselected_features)}\")\n",
    "print(f\"Total features dropped due too high correlations: {len(drop_feats)}\")\n",
    "print(f\"Total selected features: {len(good_feats)}\")"
   ]
  },
  {
   "cell_type": "markdown",
   "metadata": {},
   "source": [
    "Visualizing the correlation of the good features to verify that the RFE step worked"
   ]
  },
  {
   "cell_type": "code",
   "execution_count": 16,
   "metadata": {
    "ExecuteTime": {
     "end_time": "2021-05-05T09:50:32.094075Z",
     "start_time": "2021-05-05T09:50:31.473695Z"
    }
   },
   "outputs": [
    {
     "data": {
      "image/png": "[encoded data removed]",
      "text/plain": [
       "<Figure size 720x576 with 2 Axes>"
      ]
     },
     "metadata": {
      "needs_background": "light"
     },
     "output_type": "display_data"
    }
   ],
   "source": [
    "plot_correlations(X_train_woe[good_feats].corr())"
   ]
  },
  {
   "cell_type": "markdown",
   "metadata": {},
   "source": [
    "and the final list of selected features is shown below"
   ]
  },
  {
   "cell_type": "code",
   "execution_count": 17,
   "metadata": {
    "ExecuteTime": {
     "end_time": "2021-05-05T09:51:26.514328Z",
     "start_time": "2021-05-05T09:51:26.510749Z"
    }
   },
   "outputs": [
    {
     "data": {
      "text/plain": [
       "['x6',\n",
       " 'x8',\n",
       " 'x10',\n",
       " 'x18',\n",
       " 'x1',\n",
       " 'x19',\n",
       " 'x20',\n",
       " 'x21',\n",
       " 'x23',\n",
       " 'x22',\n",
       " 'x3',\n",
       " 'x17',\n",
       " 'x16']"
      ]
     },
     "execution_count": 17,
     "metadata": {},
     "output_type": "execute_result"
    }
   ],
   "source": [
    "good_feats"
   ]
  },
  {
   "cell_type": "markdown",
   "metadata": {},
   "source": [
    "## Up next\n",
    "\n",
    "After performing the feature selection, it's time to build the final `Skorecard` model.\n"
   ]
  }
 ],
 "metadata": {
  "kernelspec": {
   "display_name": "Python [conda env:dancard_py37]",
   "language": "python",
   "name": "conda-env-dancard_py37-py"
  },
  "language_info": {
   "codemirror_mode": {
    "name": "ipython",
    "version": 3
   },
   "file_extension": ".py",
   "mimetype": "text/x-python",
   "name": "python",
   "nbconvert_exporter": "python",
   "pygments_lexer": "ipython3",
   "version": "3.7.10"
  },
  "latex_envs": {
   "LaTeX_envs_menu_present": true,
   "autoclose": false,
   "autocomplete": true,
   "bibliofile": "biblio.bib",
   "cite_by": "apalike",
   "current_citInitial": 1,
   "eqLabelWithNumbers": true,
   "eqNumInitial": 1,
   "hotkeys": {
    "equation": "Ctrl-E",
    "itemize": "Ctrl-I"
   },
   "labels_anchors": false,
   "latex_user_defs": false,
   "report_style_numbering": false,
   "user_envs_cfg": false
  }
 },
 "nbformat": 4,
 "nbformat_minor": 5
}
