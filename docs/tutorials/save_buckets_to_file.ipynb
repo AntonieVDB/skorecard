{
 "cells": [
  {
   "cell_type": "markdown",
   "metadata": {},
   "source": [
    "# Save buckets to files\n",
    "\n",
    "After the bucketing process has been completed, it's useful to save the buckets to a file.<br>\n",
    "`skorecard` supports saving bucketers to yaml and json files."
   ]
  },
  {
   "cell_type": "code",
   "execution_count": 1,
   "metadata": {
    "ExecuteTime": {
     "end_time": "2021-04-28T09:23:08.309600Z",
     "start_time": "2021-04-28T09:23:07.488698Z"
    }
   },
   "outputs": [
    {
     "data": {
      "text/html": [
       "<div>\n",
       "<style scoped>\n",
       "    .dataframe tbody tr th:only-of-type {\n",
       "        vertical-align: middle;\n",
       "    }\n",
       "\n",
       "    .dataframe tbody tr th {\n",
       "        vertical-align: top;\n",
       "    }\n",
       "\n",
       "    .dataframe thead th {\n",
       "        text-align: right;\n",
       "    }\n",
       "</style>\n",
       "<table border=\"1\" class=\"dataframe\">\n",
       "  <thead>\n",
       "    <tr style=\"text-align: right;\">\n",
       "      <th></th>\n",
       "      <th>EDUCATION</th>\n",
       "      <th>MARRIAGE</th>\n",
       "      <th>LIMIT_BAL</th>\n",
       "      <th>BILL_AMT1</th>\n",
       "    </tr>\n",
       "  </thead>\n",
       "  <tbody>\n",
       "    <tr>\n",
       "      <th>0</th>\n",
       "      <td>1</td>\n",
       "      <td>2</td>\n",
       "      <td>400000.0</td>\n",
       "      <td>201800.0</td>\n",
       "    </tr>\n",
       "    <tr>\n",
       "      <th>1</th>\n",
       "      <td>2</td>\n",
       "      <td>2</td>\n",
       "      <td>80000.0</td>\n",
       "      <td>80610.0</td>\n",
       "    </tr>\n",
       "    <tr>\n",
       "      <th>2</th>\n",
       "      <td>1</td>\n",
       "      <td>2</td>\n",
       "      <td>500000.0</td>\n",
       "      <td>499452.0</td>\n",
       "    </tr>\n",
       "    <tr>\n",
       "      <th>3</th>\n",
       "      <td>1</td>\n",
       "      <td>1</td>\n",
       "      <td>140000.0</td>\n",
       "      <td>450.0</td>\n",
       "    </tr>\n",
       "  </tbody>\n",
       "</table>\n",
       "</div>"
      ],
      "text/plain": [
       "   EDUCATION  MARRIAGE  LIMIT_BAL  BILL_AMT1\n",
       "0          1         2   400000.0   201800.0\n",
       "1          2         2    80000.0    80610.0\n",
       "2          1         2   500000.0   499452.0\n",
       "3          1         1   140000.0      450.0"
      ]
     },
     "execution_count": 1,
     "metadata": {},
     "output_type": "execute_result"
    }
   ],
   "source": [
    "from skorecard.datasets import load_uci_credit_card\n",
    "\n",
    "X, y = load_uci_credit_card(return_X_y=True)\n",
    "X.head(4)"
   ]
  },
  {
   "cell_type": "markdown",
   "metadata": {},
   "source": [
    "## Saving bucketers"
   ]
  },
  {
   "cell_type": "code",
   "execution_count": 2,
   "metadata": {
    "ExecuteTime": {
     "end_time": "2021-04-28T09:23:09.001012Z",
     "start_time": "2021-04-28T09:23:08.311484Z"
    }
   },
   "outputs": [],
   "source": [
    "from skorecard.bucketers import DecisionTreeBucketer\n",
    "\n",
    "bucketer = DecisionTreeBucketer(max_n_bins=10)\n",
    "bucketer = bucketer.fit(X, y)"
   ]
  },
  {
   "cell_type": "markdown",
   "metadata": {},
   "source": [
    "Save the bucketer to a yaml file"
   ]
  },
  {
   "cell_type": "code",
   "execution_count": 3,
   "metadata": {
    "ExecuteTime": {
     "end_time": "2021-04-28T09:23:09.010146Z",
     "start_time": "2021-04-28T09:23:09.002937Z"
    }
   },
   "outputs": [],
   "source": [
    "bucketer.save_yml(open(\"bucketer.yml\",\"w\"))"
   ]
  },
  {
   "cell_type": "markdown",
   "metadata": {},
   "source": [
    "## Saving bucketing process output\n",
    "\n",
    "We define the bucketing process and save the process to a yaml file"
   ]
  },
  {
   "cell_type": "code",
   "execution_count": 4,
   "metadata": {
    "ExecuteTime": {
     "end_time": "2021-04-28T09:23:09.345990Z",
     "start_time": "2021-04-28T09:23:09.012033Z"
    }
   },
   "outputs": [
    {
     "data": {
      "text/plain": [
       "BucketingProcess(bucketing_pipeline=SkorecardPipeline(steps=[('optimalbucketer-1',\n",
       "                                                              OptimalBucketer(variables=['LIMIT_BAL',\n",
       "                                                                                         'BILL_AMT1'])),\n",
       "                                                             ('optimalbucketer-2',\n",
       "                                                              OptimalBucketer(variables=['EDUCATION',\n",
       "                                                                                         'MARRIAGE'],\n",
       "                                                                              variables_type='categorical'))]),\n",
       "                 prebucketing_pipeline=SkorecardPipeline(steps=[('decisiontreebucketer',\n",
       "                                                                 DecisionTreeBucketer(variables=['LIMIT_BAL',\n",
       "                                                                                                 'BILL_AMT1'])),\n",
       "                                                                ('asiscategoricalbucketer',\n",
       "                                                                 AsIsCategoricalBucketer(variables=['EDUCATION',\n",
       "                                                                                                    'MARRIAGE']))]))"
      ]
     },
     "execution_count": 4,
     "metadata": {},
     "output_type": "execute_result"
    }
   ],
   "source": [
    "from skorecard.pipeline import BucketingProcess\n",
    "from skorecard.bucketers import EqualFrequencyBucketer, OptimalBucketer, AsIsCategoricalBucketer\n",
    "from sklearn.pipeline import make_pipeline\n",
    "\n",
    "num_cols = [\"LIMIT_BAL\", \"BILL_AMT1\"]\n",
    "cat_cols = [\"EDUCATION\", \"MARRIAGE\"]\n",
    "\n",
    "bucketing_process = BucketingProcess(\n",
    "        prebucketing_pipeline=make_pipeline(\n",
    "                DecisionTreeBucketer(variables=num_cols, max_n_bins=100, min_bin_size=0.05),\n",
    "                AsIsCategoricalBucketer(variables=cat_cols)\n",
    "        ),\n",
    "        bucketing_pipeline=make_pipeline(\n",
    "                OptimalBucketer(variables=num_cols, max_n_bins=10, min_bin_size=0.05),\n",
    "                OptimalBucketer(variables=cat_cols,\n",
    "                        variables_type='categorical',\n",
    "                        max_n_bins=10,\n",
    "                        min_bin_size=0.05),\n",
    "        )\n",
    ")\n",
    "\n",
    "bucketing_process.fit(X, y)"
   ]
  },
  {
   "cell_type": "markdown",
   "metadata": {},
   "source": [
    "Save the bucketing process to a yaml file"
   ]
  },
  {
   "cell_type": "code",
   "execution_count": 5,
   "metadata": {
    "ExecuteTime": {
     "end_time": "2021-04-28T09:23:09.355268Z",
     "start_time": "2021-04-28T09:23:09.348239Z"
    }
   },
   "outputs": [],
   "source": [
    "bucketing_process.save_yml(open(\"bucket_process.yml\",\"w\"))"
   ]
  },
  {
   "cell_type": "markdown",
   "metadata": {},
   "source": [
    "## Saving pipelines\n",
    "\n",
    "We can save `scikit-learn` pipelines by easily converting them to a `skorecard` pipeline"
   ]
  },
  {
   "cell_type": "code",
   "execution_count": 6,
   "metadata": {
    "ExecuteTime": {
     "end_time": "2021-04-28T09:23:09.410487Z",
     "start_time": "2021-04-28T09:23:09.358231Z"
    }
   },
   "outputs": [
    {
     "data": {
      "text/html": [
       "<div>\n",
       "<style scoped>\n",
       "    .dataframe tbody tr th:only-of-type {\n",
       "        vertical-align: middle;\n",
       "    }\n",
       "\n",
       "    .dataframe tbody tr th {\n",
       "        vertical-align: top;\n",
       "    }\n",
       "\n",
       "    .dataframe thead th {\n",
       "        text-align: right;\n",
       "    }\n",
       "</style>\n",
       "<table border=\"1\" class=\"dataframe\">\n",
       "  <thead>\n",
       "    <tr style=\"text-align: right;\">\n",
       "      <th></th>\n",
       "      <th>EDUCATION</th>\n",
       "      <th>MARRIAGE</th>\n",
       "      <th>LIMIT_BAL</th>\n",
       "      <th>BILL_AMT1</th>\n",
       "    </tr>\n",
       "  </thead>\n",
       "  <tbody>\n",
       "    <tr>\n",
       "      <th>0</th>\n",
       "      <td>1</td>\n",
       "      <td>2</td>\n",
       "      <td>4</td>\n",
       "      <td>9</td>\n",
       "    </tr>\n",
       "    <tr>\n",
       "      <th>1</th>\n",
       "      <td>2</td>\n",
       "      <td>2</td>\n",
       "      <td>2</td>\n",
       "      <td>7</td>\n",
       "    </tr>\n",
       "    <tr>\n",
       "      <th>2</th>\n",
       "      <td>1</td>\n",
       "      <td>2</td>\n",
       "      <td>4</td>\n",
       "      <td>9</td>\n",
       "    </tr>\n",
       "    <tr>\n",
       "      <th>3</th>\n",
       "      <td>1</td>\n",
       "      <td>1</td>\n",
       "      <td>3</td>\n",
       "      <td>1</td>\n",
       "    </tr>\n",
       "    <tr>\n",
       "      <th>4</th>\n",
       "      <td>2</td>\n",
       "      <td>1</td>\n",
       "      <td>4</td>\n",
       "      <td>7</td>\n",
       "    </tr>\n",
       "  </tbody>\n",
       "</table>\n",
       "</div>"
      ],
      "text/plain": [
       "   EDUCATION  MARRIAGE  LIMIT_BAL  BILL_AMT1\n",
       "0          1         2          4          9\n",
       "1          2         2          2          7\n",
       "2          1         2          4          9\n",
       "3          1         1          3          1\n",
       "4          2         1          4          7"
      ]
     },
     "execution_count": 6,
     "metadata": {},
     "output_type": "execute_result"
    }
   ],
   "source": [
    "from sklearn.pipeline import make_pipeline\n",
    "from skorecard.bucketers import EqualFrequencyBucketer\n",
    "\n",
    "pipe = make_pipeline(\n",
    "    EqualFrequencyBucketer(n_bins=10, variables=[\"BILL_AMT1\"]),\n",
    "    DecisionTreeBucketer(max_n_bins=5, variables=[\"LIMIT_BAL\"])\n",
    ")\n",
    "pipe.fit_transform(X, y).head(5)"
   ]
  },
  {
   "cell_type": "markdown",
   "metadata": {},
   "source": [
    "To save `sklearn pipelines`, `skorecard` implements helper functions"
   ]
  },
  {
   "cell_type": "code",
   "execution_count": 7,
   "metadata": {
    "ExecuteTime": {
     "end_time": "2021-04-28T09:23:09.420850Z",
     "start_time": "2021-04-28T09:23:09.413524Z"
    }
   },
   "outputs": [],
   "source": [
    "from skorecard.pipeline.pipeline import to_skorecard_pipeline\n",
    "\n",
    "sk_pipe = to_skorecard_pipeline(pipe)\n",
    "\n",
    "sk_pipe.save_yml(open(\"pipe2.yml\",\"w\"))"
   ]
  }
 ],
 "metadata": {
  "kernelspec": {
   "display_name": "Python [conda env:dancard_py37]",
   "language": "python",
   "name": "conda-env-dancard_py37-py"
  },
  "language_info": {
   "codemirror_mode": {
    "name": "ipython",
    "version": 3
   },
   "file_extension": ".py",
   "mimetype": "text/x-python",
   "name": "python",
   "nbconvert_exporter": "python",
   "pygments_lexer": "ipython3",
   "version": "3.7.10"
  },
  "latex_envs": {
   "LaTeX_envs_menu_present": true,
   "autoclose": false,
   "autocomplete": true,
   "bibliofile": "biblio.bib",
   "cite_by": "apalike",
   "current_citInitial": 1,
   "eqLabelWithNumbers": true,
   "eqNumInitial": 1,
   "hotkeys": {
    "equation": "Ctrl-E",
    "itemize": "Ctrl-I"
   },
   "labels_anchors": false,
   "latex_user_defs": false,
   "report_style_numbering": false,
   "user_envs_cfg": false
  },
  "metadata": {
   "interpreter": {
    "hash": "aee8b7b246df8f9039afb4144a1f6fd8d2ca17a180786b69acc140d282b71a49"
   }
  }
 },
 "nbformat": 4,
 "nbformat_minor": 5
}
