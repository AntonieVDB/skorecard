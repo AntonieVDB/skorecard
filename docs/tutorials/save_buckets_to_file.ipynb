{
 "cells": [
  {
   "cell_type": "markdown",
   "id": "0cffd51c",
   "metadata": {},
   "source": [
    "# Save buckets to files\n",
    "\n",
    "After the bucketing process has been completed, it's useful to save the buckets to a file.<br>\n",
    "`skorecard` supports saving bucketers to yaml and json files."
   ]
  },
  {
   "cell_type": "code",
   "execution_count": 2,
   "id": "e47d852d",
   "metadata": {
    "ExecuteTime": {
     "end_time": "2021-04-28T09:23:08.309600Z",
     "start_time": "2021-04-28T09:23:07.488698Z"
    }
   },
   "outputs": [
    {
     "output_type": "execute_result",
     "data": {
      "text/plain": [
       "   EDUCATION  MARRIAGE  LIMIT_BAL  BILL_AMT1\n",
       "0          1         2   400000.0   201800.0\n",
       "1          2         2    80000.0    80610.0\n",
       "2          1         2   500000.0   499452.0\n",
       "3          1         1   140000.0      450.0"
      ],
      "text/html": "<div>\n<style scoped>\n    .dataframe tbody tr th:only-of-type {\n        vertical-align: middle;\n    }\n\n    .dataframe tbody tr th {\n        vertical-align: top;\n    }\n\n    .dataframe thead th {\n        text-align: right;\n    }\n</style>\n<table border=\"1\" class=\"dataframe\">\n  <thead>\n    <tr style=\"text-align: right;\">\n      <th></th>\n      <th>EDUCATION</th>\n      <th>MARRIAGE</th>\n      <th>LIMIT_BAL</th>\n      <th>BILL_AMT1</th>\n    </tr>\n  </thead>\n  <tbody>\n    <tr>\n      <th>0</th>\n      <td>1</td>\n      <td>2</td>\n      <td>400000.0</td>\n      <td>201800.0</td>\n    </tr>\n    <tr>\n      <th>1</th>\n      <td>2</td>\n      <td>2</td>\n      <td>80000.0</td>\n      <td>80610.0</td>\n    </tr>\n    <tr>\n      <th>2</th>\n      <td>1</td>\n      <td>2</td>\n      <td>500000.0</td>\n      <td>499452.0</td>\n    </tr>\n    <tr>\n      <th>3</th>\n      <td>1</td>\n      <td>1</td>\n      <td>140000.0</td>\n      <td>450.0</td>\n    </tr>\n  </tbody>\n</table>\n</div>"
     },
     "metadata": {},
     "execution_count": 2
    }
   ],
   "source": [
    "from skorecard.datasets import load_uci_credit_card\n",
    "\n",
    "X, y = load_uci_credit_card(return_X_y=True)\n",
    "X.head(4)"
   ]
  },
  {
   "cell_type": "markdown",
   "id": "fe0d94cf",
   "metadata": {},
   "source": [
    "## Saving bucketers"
   ]
  },
  {
   "cell_type": "code",
   "execution_count": 3,
   "id": "a0f81335",
   "metadata": {
    "ExecuteTime": {
     "end_time": "2021-04-28T09:23:09.001012Z",
     "start_time": "2021-04-28T09:23:08.311484Z"
    }
   },
   "outputs": [],
   "source": [
    "from skorecard.bucketers import DecisionTreeBucketer\n",
    "\n",
    "bucketer = DecisionTreeBucketer(max_n_bins=10)\n",
    "bucketer = bucketer.fit(X, y)"
   ]
  },
  {
   "cell_type": "markdown",
   "id": "cabe0532",
   "metadata": {},
   "source": [
    "Save the bucketer to a yaml file"
   ]
  },
  {
   "cell_type": "code",
   "execution_count": 4,
   "id": "8c68e13f",
   "metadata": {
    "ExecuteTime": {
     "end_time": "2021-04-28T09:23:09.010146Z",
     "start_time": "2021-04-28T09:23:09.002937Z"
    }
   },
   "outputs": [],
   "source": [
    "bucketer.save_yml(open(\"bucketer.yml\",\"w\"))"
   ]
  },
  {
   "cell_type": "markdown",
   "id": "941ba6bd",
   "metadata": {},
   "source": [
    "## Saving bucketing process output\n",
    "\n",
    "Define te bucketing process, as usual"
   ]
  },
  {
   "cell_type": "code",
   "execution_count": 5,
   "id": "1bb21b7d",
   "metadata": {
    "ExecuteTime": {
     "end_time": "2021-04-28T09:23:09.345990Z",
     "start_time": "2021-04-28T09:23:09.012033Z"
    }
   },
   "outputs": [
    {
     "output_type": "execute_result",
     "data": {
      "text/plain": [
       "BucketingProcess(bucketing_pipeline=Pipeline(steps=[('optimalbucketer-1',\n",
       "                                                     OptimalBucketer(variables=['LIMIT_BAL',\n",
       "                                                                                'BILL_AMT1'])),\n",
       "                                                    ('optimalbucketer-2',\n",
       "                                                     OptimalBucketer(variables=['EDUCATION',\n",
       "                                                                                'MARRIAGE'],\n",
       "                                                                     variables_type='categorical'))]),\n",
       "                 prebucketing_pipeline=Pipeline(steps=[('decisiontreebucketer',\n",
       "                                                        DecisionTreeBucketer(variables=['LIMIT_BAL',\n",
       "                                                                                        'BILL_AMT1'])),\n",
       "                                                       ('asiscategoricalbucketer',\n",
       "                                                        AsIsCategoricalBucketer(variables=['EDUCATION',\n",
       "                                                                                           'MARRIAGE']))]))"
      ]
     },
     "metadata": {},
     "execution_count": 5
    }
   ],
   "source": [
    "from skorecard.pipeline import BucketingProcess\n",
    "from skorecard.bucketers import EqualFrequencyBucketer, OptimalBucketer, AsIsCategoricalBucketer\n",
    "from sklearn.pipeline import make_pipeline\n",
    "\n",
    "num_cols = [\"LIMIT_BAL\", \"BILL_AMT1\"]\n",
    "cat_cols = [\"EDUCATION\", \"MARRIAGE\"]\n",
    "\n",
    "bucketing_process = BucketingProcess(\n",
    "        prebucketing_pipeline=make_pipeline(\n",
    "                DecisionTreeBucketer(variables=num_cols, max_n_bins=100, min_bin_size=0.05),\n",
    "                AsIsCategoricalBucketer(variables=cat_cols)\n",
    "        ),\n",
    "        bucketing_pipeline=make_pipeline(\n",
    "                OptimalBucketer(variables=num_cols, max_n_bins=10, min_bin_size=0.05),\n",
    "                OptimalBucketer(variables=cat_cols,\n",
    "                        variables_type='categorical',\n",
    "                        max_n_bins=10,\n",
    "                        min_bin_size=0.05),\n",
    "        )\n",
    ")\n",
    "\n",
    "bucketing_process.fit(X, y)"
   ]
  },
  {
   "cell_type": "markdown",
   "id": "9149506a",
   "metadata": {},
   "source": [
    "Save the bucketing process to a yaml file"
   ]
  },
  {
   "cell_type": "code",
   "execution_count": 6,
   "id": "701d6650",
   "metadata": {
    "ExecuteTime": {
     "end_time": "2021-04-28T09:23:09.355268Z",
     "start_time": "2021-04-28T09:23:09.348239Z"
    }
   },
   "outputs": [],
   "source": [
    "bucketing_process.save_yml(open(\"bucket_process.yml\",\"w\"))"
   ]
  },
  {
   "cell_type": "markdown",
   "id": "fff4040b",
   "metadata": {},
   "source": [
    "## Saving pipelines"
   ]
  },
  {
   "cell_type": "code",
   "execution_count": 7,
   "id": "f6bba108",
   "metadata": {
    "ExecuteTime": {
     "end_time": "2021-04-28T09:23:09.410487Z",
     "start_time": "2021-04-28T09:23:09.358231Z"
    }
   },
   "outputs": [
    {
     "output_type": "execute_result",
     "data": {
      "text/plain": [
       "   EDUCATION  MARRIAGE  LIMIT_BAL  BILL_AMT1\n",
       "0          1         2          4          9\n",
       "1          2         2          2          7\n",
       "2          1         2          4          9\n",
       "3          1         1          3          1\n",
       "4          2         1          4          7"
      ],
      "text/html": "<div>\n<style scoped>\n    .dataframe tbody tr th:only-of-type {\n        vertical-align: middle;\n    }\n\n    .dataframe tbody tr th {\n        vertical-align: top;\n    }\n\n    .dataframe thead th {\n        text-align: right;\n    }\n</style>\n<table border=\"1\" class=\"dataframe\">\n  <thead>\n    <tr style=\"text-align: right;\">\n      <th></th>\n      <th>EDUCATION</th>\n      <th>MARRIAGE</th>\n      <th>LIMIT_BAL</th>\n      <th>BILL_AMT1</th>\n    </tr>\n  </thead>\n  <tbody>\n    <tr>\n      <th>0</th>\n      <td>1</td>\n      <td>2</td>\n      <td>4</td>\n      <td>9</td>\n    </tr>\n    <tr>\n      <th>1</th>\n      <td>2</td>\n      <td>2</td>\n      <td>2</td>\n      <td>7</td>\n    </tr>\n    <tr>\n      <th>2</th>\n      <td>1</td>\n      <td>2</td>\n      <td>4</td>\n      <td>9</td>\n    </tr>\n    <tr>\n      <th>3</th>\n      <td>1</td>\n      <td>1</td>\n      <td>3</td>\n      <td>1</td>\n    </tr>\n    <tr>\n      <th>4</th>\n      <td>2</td>\n      <td>1</td>\n      <td>4</td>\n      <td>7</td>\n    </tr>\n  </tbody>\n</table>\n</div>"
     },
     "metadata": {},
     "execution_count": 7
    }
   ],
   "source": [
    "from sklearn.pipeline import make_pipeline\n",
    "from skorecard.bucketers import EqualFrequencyBucketer\n",
    "\n",
    "pipe = make_pipeline(\n",
    "    EqualFrequencyBucketer(n_bins=10, variables=[\"BILL_AMT1\"]),\n",
    "    DecisionTreeBucketer(max_n_bins=5, variables=[\"LIMIT_BAL\"])\n",
    ")\n",
    "pipe.fit_transform(X, y).head(5)"
   ]
  },
  {
   "cell_type": "markdown",
   "id": "0aec9d0e",
   "metadata": {},
   "source": [
    "To save `sklearn pipelines`, `skorecard` implements helper functions"
   ]
  },
  {
   "cell_type": "code",
   "execution_count": 8,
   "id": "079990da",
   "metadata": {
    "ExecuteTime": {
     "end_time": "2021-04-28T09:23:09.420850Z",
     "start_time": "2021-04-28T09:23:09.413524Z"
    }
   },
   "outputs": [],
   "source": [
    "from skorecard.io import save_to_yaml\n",
    "\n",
    "save_to_yaml(pipe,open(\"pipe2.yml\",\"w\"))"
   ]
  },
  {
   "cell_type": "markdown",
   "id": "2b0243c7",
   "metadata": {},
   "source": [
    "### Note\n",
    "The same functions can be used with `bucketers` and `bucketing_process`."
   ]
  },
  {
   "cell_type": "code",
   "execution_count": 9,
   "id": "edada8c6",
   "metadata": {
    "ExecuteTime": {
     "end_time": "2021-04-28T09:23:09.437353Z",
     "start_time": "2021-04-28T09:23:09.422208Z"
    }
   },
   "outputs": [],
   "source": [
    "save_to_yaml(bucketer,open(\"bucketer2.yml\",\"w\"))"
   ]
  },
  {
   "cell_type": "code",
   "execution_count": 10,
   "id": "6401b363",
   "metadata": {
    "ExecuteTime": {
     "end_time": "2021-04-28T09:23:09.452938Z",
     "start_time": "2021-04-28T09:23:09.439349Z"
    }
   },
   "outputs": [
    {
     "output_type": "error",
     "ename": "NotImplementedError",
     "evalue": "ToDo: full support for bucketing process",
     "traceback": [
      "\u001b[0;31m---------------------------------------------------------------------------\u001b[0m",
      "\u001b[0;31mNotImplementedError\u001b[0m                       Traceback (most recent call last)",
      "\u001b[0;32m<ipython-input-10-40083662b8d6>\u001b[0m in \u001b[0;36m<module>\u001b[0;34m\u001b[0m\n\u001b[0;32m----> 1\u001b[0;31m \u001b[0msave_to_yaml\u001b[0m\u001b[0;34m(\u001b[0m\u001b[0mbucketing_process\u001b[0m\u001b[0;34m,\u001b[0m\u001b[0mopen\u001b[0m\u001b[0;34m(\u001b[0m\u001b[0;34m\"bucket_process2.yml\"\u001b[0m\u001b[0;34m,\u001b[0m\u001b[0;34m\"w\"\u001b[0m\u001b[0;34m)\u001b[0m\u001b[0;34m)\u001b[0m\u001b[0;34m\u001b[0m\u001b[0;34m\u001b[0m\u001b[0m\n\u001b[0m",
      "\u001b[0;32m~/ing_workspace/skorecard/skorecard/io/io.py\u001b[0m in \u001b[0;36msave_to_yaml\u001b[0;34m(bucketers, fout)\u001b[0m\n\u001b[1;32m     15\u001b[0m         \u001b[0mfbm\u001b[0m\u001b[0;34m.\u001b[0m\u001b[0msave_yml\u001b[0m\u001b[0;34m(\u001b[0m\u001b[0mfout\u001b[0m\u001b[0;34m)\u001b[0m\u001b[0;34m\u001b[0m\u001b[0;34m\u001b[0m\u001b[0m\n\u001b[1;32m     16\u001b[0m     \u001b[0;32melif\u001b[0m \u001b[0misinstance\u001b[0m\u001b[0;34m(\u001b[0m\u001b[0mbucketers\u001b[0m\u001b[0;34m,\u001b[0m \u001b[0mskore_pipe\u001b[0m\u001b[0;34m.\u001b[0m\u001b[0mBucketingProcess\u001b[0m\u001b[0;34m)\u001b[0m\u001b[0;34m:\u001b[0m\u001b[0;34m\u001b[0m\u001b[0;34m\u001b[0m\u001b[0m\n\u001b[0;32m---> 17\u001b[0;31m         \u001b[0;32mraise\u001b[0m \u001b[0mNotImplementedError\u001b[0m\u001b[0;34m(\u001b[0m\u001b[0;34m\"ToDo: full support for bucketing process\"\u001b[0m\u001b[0;34m)\u001b[0m\u001b[0;34m\u001b[0m\u001b[0;34m\u001b[0m\u001b[0m\n\u001b[0m\u001b[1;32m     18\u001b[0m         \u001b[0mbucketers\u001b[0m\u001b[0;34m.\u001b[0m\u001b[0msave_yml\u001b[0m\u001b[0;34m(\u001b[0m\u001b[0mfout\u001b[0m\u001b[0;34m)\u001b[0m\u001b[0;34m\u001b[0m\u001b[0;34m\u001b[0m\u001b[0m\n\u001b[1;32m     19\u001b[0m     \u001b[0;32melif\u001b[0m \u001b[0misinstance\u001b[0m\u001b[0;34m(\u001b[0m\u001b[0mbucketers\u001b[0m\u001b[0;34m,\u001b[0m \u001b[0mbase_bucketer\u001b[0m\u001b[0;34m.\u001b[0m\u001b[0mBaseBucketer\u001b[0m\u001b[0;34m)\u001b[0m\u001b[0;34m:\u001b[0m\u001b[0;34m\u001b[0m\u001b[0;34m\u001b[0m\u001b[0m\n",
      "\u001b[0;31mNotImplementedError\u001b[0m: ToDo: full support for bucketing process"
     ]
    }
   ],
   "source": [
    "save_to_yaml(bucketing_process,open(\"bucket_process2.yml\",\"w\"))"
   ]
  },
  {
   "cell_type": "markdown",
   "id": "a6517aa6",
   "metadata": {},
   "source": [
    "## Read the file\n",
    "\n",
    "Open the file and load it in the `UserInputBucketer`"
   ]
  },
  {
   "cell_type": "code",
   "execution_count": 11,
   "id": "0e897c4a",
   "metadata": {
    "ExecuteTime": {
     "end_time": "2021-04-28T09:23:09.457062Z",
     "start_time": "2021-04-28T09:23:09.454682Z"
    }
   },
   "outputs": [],
   "source": [
    "from skorecard.bucketers import UserInputBucketer"
   ]
  },
  {
   "cell_type": "code",
   "execution_count": 12,
   "id": "777c09cc",
   "metadata": {
    "ExecuteTime": {
     "end_time": "2021-04-28T09:23:09.484357Z",
     "start_time": "2021-04-28T09:23:09.460573Z"
    }
   },
   "outputs": [
    {
     "output_type": "execute_result",
     "data": {
      "text/plain": [
       "   EDUCATION  MARRIAGE  LIMIT_BAL  BILL_AMT1\n",
       "0          2         2          8          5\n",
       "1          1         2          8          5\n",
       "2          2         2          8          5\n",
       "3          2         0          8          5"
      ],
      "text/html": "<div>\n<style scoped>\n    .dataframe tbody tr th:only-of-type {\n        vertical-align: middle;\n    }\n\n    .dataframe tbody tr th {\n        vertical-align: top;\n    }\n\n    .dataframe thead th {\n        text-align: right;\n    }\n</style>\n<table border=\"1\" class=\"dataframe\">\n  <thead>\n    <tr style=\"text-align: right;\">\n      <th></th>\n      <th>EDUCATION</th>\n      <th>MARRIAGE</th>\n      <th>LIMIT_BAL</th>\n      <th>BILL_AMT1</th>\n    </tr>\n  </thead>\n  <tbody>\n    <tr>\n      <th>0</th>\n      <td>2</td>\n      <td>2</td>\n      <td>8</td>\n      <td>5</td>\n    </tr>\n    <tr>\n      <th>1</th>\n      <td>1</td>\n      <td>2</td>\n      <td>8</td>\n      <td>5</td>\n    </tr>\n    <tr>\n      <th>2</th>\n      <td>2</td>\n      <td>2</td>\n      <td>8</td>\n      <td>5</td>\n    </tr>\n    <tr>\n      <th>3</th>\n      <td>2</td>\n      <td>0</td>\n      <td>8</td>\n      <td>5</td>\n    </tr>\n  </tbody>\n</table>\n</div>"
     },
     "metadata": {},
     "execution_count": 12
    }
   ],
   "source": [
    "import yaml\n",
    "fbm = yaml.safe_load(open(\"bucket_process.yml\",\"r\"))\n",
    "\n",
    "uib = UserInputBucketer(fbm)\n",
    "uib.transform(X).head(4)"
   ]
  },
  {
   "cell_type": "code",
   "execution_count": null,
   "metadata": {},
   "outputs": [],
   "source": []
  }
 ],
 "metadata": {
  "kernelspec": {
   "name": "python383jvsc74a57bd061a9efb557ee20b19fda2d58cb63f9a3bf86c2530fcd43d63aa6e0adea42a5e4",
   "display_name": "Python 3.8.3 64-bit ('base': conda)"
  },
  "language_info": {
   "codemirror_mode": {
    "name": "ipython",
    "version": 3
   },
   "file_extension": ".py",
   "mimetype": "text/x-python",
   "name": "python",
   "nbconvert_exporter": "python",
   "pygments_lexer": "ipython3",
   "version": "3.8.3"
  },
  "latex_envs": {
   "LaTeX_envs_menu_present": true,
   "autoclose": false,
   "autocomplete": true,
   "bibliofile": "biblio.bib",
   "cite_by": "apalike",
   "current_citInitial": 1,
   "eqLabelWithNumbers": true,
   "eqNumInitial": 1,
   "hotkeys": {
    "equation": "Ctrl-E",
    "itemize": "Ctrl-I"
   },
   "labels_anchors": false,
   "latex_user_defs": false,
   "report_style_numbering": false,
   "user_envs_cfg": false
  },
  "metadata": {
   "interpreter": {
    "hash": "aee8b7b246df8f9039afb4144a1f6fd8d2ca17a180786b69acc140d282b71a49"
   }
  }
 },
 "nbformat": 4,
 "nbformat_minor": 5
}