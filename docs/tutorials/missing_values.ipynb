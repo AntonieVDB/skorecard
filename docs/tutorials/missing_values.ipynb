{
 "cells": [
  {
   "cell_type": "markdown",
   "source": [
    "# Missing Values\n",
    "\n",
    "`skorecard` bucketers offer native support for missing values and will put them in a separate bucket by default. \n",
    "\n",
    "In the example below, you can see that the single missing value is put into a new bucket '-1'."
   ],
   "metadata": {}
  },
  {
   "cell_type": "code",
   "execution_count": 1,
   "source": [
    "import numpy as np\n",
    "import pandas as pd\n",
    "from skorecard.bucketers import EqualFrequencyBucketer\n",
    "\n",
    "df = pd.DataFrame({'counts': [1, 2, 2, 1, 4, 2, np.nan, 1, 3]})\n",
    "EqualFrequencyBucketer(n_bins=2).fit_transform(df).value_counts()"
   ],
   "outputs": [
    {
     "output_type": "execute_result",
     "data": {
      "text/plain": [
       "counts\n",
       " 0        6\n",
       " 1        2\n",
       "-1        1\n",
       "dtype: int64"
      ]
     },
     "metadata": {},
     "execution_count": 1
    }
   ],
   "metadata": {}
  },
  {
   "cell_type": "markdown",
   "source": [
    "Alternatively, the user can give a specific bucket for the missing values.\n",
    "\n",
    "In the example below, you can see we put the missing value into bucket 1"
   ],
   "metadata": {}
  },
  {
   "cell_type": "code",
   "execution_count": 2,
   "source": [
    "df = pd.DataFrame({'counts': [1, 2, 2, 1, 4, 2, np.nan, 1, 3]})\n",
    "EqualFrequencyBucketer(n_bins=2, missing_treatment={'counts': 1}).fit_transform(df).value_counts()"
   ],
   "outputs": [
    {
     "output_type": "execute_result",
     "data": {
      "text/plain": [
       "counts\n",
       "0         6\n",
       "1         3\n",
       "dtype: int64"
      ]
     },
     "metadata": {},
     "execution_count": 2
    }
   ],
   "metadata": {}
  }
 ],
 "metadata": {
  "kernelspec": {
   "name": "python3",
   "display_name": "Python 3.8.5 64-bit ('py38': conda)"
  },
  "language_info": {
   "codemirror_mode": {
    "name": "ipython",
    "version": 3
   },
   "file_extension": ".py",
   "mimetype": "text/x-python",
   "name": "python",
   "nbconvert_exporter": "python",
   "pygments_lexer": "ipython3",
   "version": "3.8.5"
  },
  "interpreter": {
   "hash": "358a4423f52aa1f7341f935cecae218fabcbaaa95ea1661253f2b730112d1496"
  }
 },
 "nbformat": 4,
 "nbformat_minor": 2
}