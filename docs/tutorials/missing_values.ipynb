{
 "cells": [
  {
   "cell_type": "markdown",
   "metadata": {},
   "source": [
    "# Missing Values\n",
    "\n",
    "`skorecard` bucketers offer native support for missing values but will put them in a separate bucket by default. \n",
    "\n",
    "In the example below, you can see that the single missing value is put into a new bucket '-1'."
   ]
  },
  {
   "cell_type": "code",
   "execution_count": 1,
   "metadata": {},
   "outputs": [
    {
     "data": {
      "text/plain": [
       "counts\n",
       " 0        6\n",
       " 1        2\n",
       "-1        1\n",
       "dtype: int64"
      ]
     },
     "execution_count": 1,
     "metadata": {},
     "output_type": "execute_result"
    }
   ],
   "source": [
    "import numpy as np\n",
    "import pandas as pd\n",
    "from skorecard.bucketers import EqualFrequencyBucketer\n",
    "\n",
    "df = pd.DataFrame({'counts': [1, 2, 2, 1, 4, 2, np.nan, 1, 3]})\n",
    "EqualFrequencyBucketer(n_bins=2).fit_transform(df).value_counts()"
   ]
  },
  {
   "cell_type": "markdown",
   "metadata": {},
   "source": [
    "Alternatively, the user can give a specific bucket for the missing values.\n",
    "\n",
    "In the example below, you can see we put the missing value into bucket 1"
   ]
  },
  {
   "cell_type": "code",
   "execution_count": 2,
   "metadata": {},
   "outputs": [
    {
     "data": {
      "text/plain": [
       "counts\n",
       "0         6\n",
       "1         3\n",
       "dtype: int64"
      ]
     },
     "execution_count": 2,
     "metadata": {},
     "output_type": "execute_result"
    }
   ],
   "source": [
    "df = pd.DataFrame({'counts': [1, 2, 2, 1, 4, 2, np.nan, 1, 3]})\n",
    "EqualFrequencyBucketer(n_bins=2, missing_treatment={'counts': 1}).fit_transform(df).value_counts()"
   ]
  }
 ],
 "metadata": {
  "kernelspec": {
   "display_name": "Python [conda env:dancard_py37]",
   "language": "python",
   "name": "conda-env-dancard_py37-py"
  },
  "language_info": {
   "codemirror_mode": {
    "name": "ipython",
    "version": 3
   },
   "file_extension": ".py",
   "mimetype": "text/x-python",
   "name": "python",
   "nbconvert_exporter": "python",
   "pygments_lexer": "ipython3",
   "version": "3.7.10"
  }
 },
 "nbformat": 4,
 "nbformat_minor": 2
}
