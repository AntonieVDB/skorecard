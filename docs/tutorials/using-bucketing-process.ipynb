{
 "cells": [
  {
   "cell_type": "markdown",
   "source": [
    "# Using the BucketingProcess\n",
    "\n",
    "The `BucketingProcess` enables a two-step bucketing approach, where a feature is first pre-bucketed to f.e. 100 pre-buckets, and then bucketed. \n",
    "\n",
    "This is a common practice - it reduces the complexity of finding exact boundaries to the problem of finding which of 100 buckets to merge together."
   ],
   "metadata": {}
  },
  {
   "cell_type": "markdown",
   "source": [
    "## Define the BucketingProcess\n",
    "\n",
    "The bucketing process incorporates a pre-bucketing pipeline and a bucketing pipeline. You can also pass `specials` or `variables` and `BucketingProcess` will pass those settings on to the bucketers in the pipelines.\n",
    "\n",
    "In the example below, we prebucket numerical features to max 100 bins, and prebucket categorical columns as-is (each unique value is a category and new categories end up in the other bucket)."
   ],
   "metadata": {}
  },
  {
   "cell_type": "code",
   "execution_count": 1,
   "source": [
    "%load_ext autoreload\n",
    "%autoreload 2\n",
    "from skorecard import datasets\n",
    "from skorecard.bucketers import DecisionTreeBucketer, OptimalBucketer, AsIsCategoricalBucketer\n",
    "from skorecard.pipeline import BucketingProcess\n",
    "\n",
    "from sklearn.pipeline import make_pipeline\n",
    "\n",
    "df = datasets.load_uci_credit_card(as_frame=True)\n",
    "y = df[\"default\"]\n",
    "X = df.drop(columns=[\"default\"])\n",
    "\n",
    "num_cols = [\"LIMIT_BAL\", \"BILL_AMT1\"]\n",
    "cat_cols = [\"EDUCATION\", \"MARRIAGE\"]\n",
    "specials = {\"EDUCATION\" : {\"Is 1\": [1] } }\n",
    "\n",
    "bucketing_process = BucketingProcess(\n",
    "        prebucketing_pipeline=make_pipeline(\n",
    "                DecisionTreeBucketer(variables=num_cols, max_n_bins=100, min_bin_size=0.05),\n",
    "                AsIsCategoricalBucketer(variables=cat_cols)\n",
    "        ),\n",
    "        bucketing_pipeline=make_pipeline(\n",
    "                OptimalBucketer(variables=num_cols, max_n_bins=10, min_bin_size=0.05),\n",
    "                OptimalBucketer(variables=cat_cols,\n",
    "                                variables_type='categorical',\n",
    "                                max_n_bins=10,\n",
    "                                min_bin_size=0.05),\n",
    "        ),\n",
    "        specials=specials\n",
    ")\n",
    "\n",
    "bucketing_process.fit_transform(X, y).head()"
   ],
   "outputs": [
    {
     "output_type": "execute_result",
     "data": {
      "text/plain": [
       "   EDUCATION  MARRIAGE  LIMIT_BAL  BILL_AMT1\n",
       "0         -3         0          8          5\n",
       "1          1         0          3          4\n",
       "2         -3         0          8          5\n",
       "3         -3         1          4          0\n",
       "4          1         1          8          3"
      ],
      "text/html": [
       "<div>\n",
       "<style scoped>\n",
       "    .dataframe tbody tr th:only-of-type {\n",
       "        vertical-align: middle;\n",
       "    }\n",
       "\n",
       "    .dataframe tbody tr th {\n",
       "        vertical-align: top;\n",
       "    }\n",
       "\n",
       "    .dataframe thead th {\n",
       "        text-align: right;\n",
       "    }\n",
       "</style>\n",
       "<table border=\"1\" class=\"dataframe\">\n",
       "  <thead>\n",
       "    <tr style=\"text-align: right;\">\n",
       "      <th></th>\n",
       "      <th>EDUCATION</th>\n",
       "      <th>MARRIAGE</th>\n",
       "      <th>LIMIT_BAL</th>\n",
       "      <th>BILL_AMT1</th>\n",
       "    </tr>\n",
       "  </thead>\n",
       "  <tbody>\n",
       "    <tr>\n",
       "      <th>0</th>\n",
       "      <td>-3</td>\n",
       "      <td>0</td>\n",
       "      <td>8</td>\n",
       "      <td>5</td>\n",
       "    </tr>\n",
       "    <tr>\n",
       "      <th>1</th>\n",
       "      <td>1</td>\n",
       "      <td>0</td>\n",
       "      <td>3</td>\n",
       "      <td>4</td>\n",
       "    </tr>\n",
       "    <tr>\n",
       "      <th>2</th>\n",
       "      <td>-3</td>\n",
       "      <td>0</td>\n",
       "      <td>8</td>\n",
       "      <td>5</td>\n",
       "    </tr>\n",
       "    <tr>\n",
       "      <th>3</th>\n",
       "      <td>-3</td>\n",
       "      <td>1</td>\n",
       "      <td>4</td>\n",
       "      <td>0</td>\n",
       "    </tr>\n",
       "    <tr>\n",
       "      <th>4</th>\n",
       "      <td>1</td>\n",
       "      <td>1</td>\n",
       "      <td>8</td>\n",
       "      <td>3</td>\n",
       "    </tr>\n",
       "  </tbody>\n",
       "</table>\n",
       "</div>"
      ]
     },
     "metadata": {},
     "execution_count": 1
    }
   ],
   "metadata": {
    "ExecuteTime": {
     "end_time": "2021-04-21T21:36:00.282542Z",
     "start_time": "2021-04-21T21:35:59.941105Z"
    }
   }
  },
  {
   "cell_type": "code",
   "execution_count": 9,
   "source": [
    "bucketing_process.fit_interactive(X, y, port=\"7001\")"
   ],
   "outputs": [
    {
     "output_type": "stream",
     "name": "stdout",
     "text": [
      "Dash app running on http://127.0.0.1:7001/\n"
     ]
    }
   ],
   "metadata": {}
  },
  {
   "cell_type": "code",
   "execution_count": 5,
   "source": [
    "bucketing_process.pipeline.features_bucket_mapping_.get('LIMIT_BAL')"
   ],
   "outputs": [
    {
     "output_type": "execute_result",
     "data": {
      "text/plain": [
       "BucketMapping(feature_name='LIMIT_BAL', type='numerical', missing_bucket=None, other_bucket=None, map=[1, 2, 6, 8, 9, 10, 11], right=False, specials={})"
      ]
     },
     "metadata": {},
     "execution_count": 5
    }
   ],
   "metadata": {}
  },
  {
   "cell_type": "code",
   "execution_count": 6,
   "source": [
    "bucketing_process.bucket_table('LIMIT_BAL')"
   ],
   "outputs": [
    {
     "output_type": "execute_result",
     "data": {
      "text/plain": [
       "   bucket         label   Count  Count (%)  Non-event  Event  Event Rate  \\\n",
       "0      -1       Missing     0.0       0.00        0.0    0.0         NaN   \n",
       "1       0   [-inf, 1.0)   479.0       7.98      300.0  179.0    0.373695   \n",
       "2       1    [1.0, 2.0)   370.0       6.17      233.0  137.0    0.370270   \n",
       "3       2    [2.0, 6.0)  1661.0      27.68     1235.0  426.0    0.256472   \n",
       "4       3    [6.0, 8.0)  1015.0      16.92      816.0  199.0    0.196059   \n",
       "5       4    [8.0, 9.0)   769.0      12.82      630.0  139.0    0.180754   \n",
       "6       5   [9.0, 10.0)   501.0       8.35      419.0   82.0    0.163673   \n",
       "7       6  [10.0, 11.0)   379.0       6.32      326.0   53.0    0.139842   \n",
       "8       7  [11.0, 12.0)   350.0       5.83      287.0   63.0    0.180000   \n",
       "9       8   [12.0, inf)   476.0       7.93      409.0   67.0    0.140756   \n",
       "\n",
       "     WoE     IV  \n",
       "0  0.000  0.000  \n",
       "1 -0.725  0.050  \n",
       "2 -0.710  0.037  \n",
       "3 -0.177  0.009  \n",
       "4  0.170  0.005  \n",
       "5  0.270  0.009  \n",
       "6  0.390  0.011  \n",
       "7  0.575  0.018  \n",
       "8  0.275  0.004  \n",
       "9  0.567  0.022  "
      ],
      "text/html": [
       "<div>\n",
       "<style scoped>\n",
       "    .dataframe tbody tr th:only-of-type {\n",
       "        vertical-align: middle;\n",
       "    }\n",
       "\n",
       "    .dataframe tbody tr th {\n",
       "        vertical-align: top;\n",
       "    }\n",
       "\n",
       "    .dataframe thead th {\n",
       "        text-align: right;\n",
       "    }\n",
       "</style>\n",
       "<table border=\"1\" class=\"dataframe\">\n",
       "  <thead>\n",
       "    <tr style=\"text-align: right;\">\n",
       "      <th></th>\n",
       "      <th>bucket</th>\n",
       "      <th>label</th>\n",
       "      <th>Count</th>\n",
       "      <th>Count (%)</th>\n",
       "      <th>Non-event</th>\n",
       "      <th>Event</th>\n",
       "      <th>Event Rate</th>\n",
       "      <th>WoE</th>\n",
       "      <th>IV</th>\n",
       "    </tr>\n",
       "  </thead>\n",
       "  <tbody>\n",
       "    <tr>\n",
       "      <th>0</th>\n",
       "      <td>-1</td>\n",
       "      <td>Missing</td>\n",
       "      <td>0.0</td>\n",
       "      <td>0.00</td>\n",
       "      <td>0.0</td>\n",
       "      <td>0.0</td>\n",
       "      <td>NaN</td>\n",
       "      <td>0.000</td>\n",
       "      <td>0.000</td>\n",
       "    </tr>\n",
       "    <tr>\n",
       "      <th>1</th>\n",
       "      <td>0</td>\n",
       "      <td>[-inf, 1.0)</td>\n",
       "      <td>479.0</td>\n",
       "      <td>7.98</td>\n",
       "      <td>300.0</td>\n",
       "      <td>179.0</td>\n",
       "      <td>0.373695</td>\n",
       "      <td>-0.725</td>\n",
       "      <td>0.050</td>\n",
       "    </tr>\n",
       "    <tr>\n",
       "      <th>2</th>\n",
       "      <td>1</td>\n",
       "      <td>[1.0, 2.0)</td>\n",
       "      <td>370.0</td>\n",
       "      <td>6.17</td>\n",
       "      <td>233.0</td>\n",
       "      <td>137.0</td>\n",
       "      <td>0.370270</td>\n",
       "      <td>-0.710</td>\n",
       "      <td>0.037</td>\n",
       "    </tr>\n",
       "    <tr>\n",
       "      <th>3</th>\n",
       "      <td>2</td>\n",
       "      <td>[2.0, 6.0)</td>\n",
       "      <td>1661.0</td>\n",
       "      <td>27.68</td>\n",
       "      <td>1235.0</td>\n",
       "      <td>426.0</td>\n",
       "      <td>0.256472</td>\n",
       "      <td>-0.177</td>\n",
       "      <td>0.009</td>\n",
       "    </tr>\n",
       "    <tr>\n",
       "      <th>4</th>\n",
       "      <td>3</td>\n",
       "      <td>[6.0, 8.0)</td>\n",
       "      <td>1015.0</td>\n",
       "      <td>16.92</td>\n",
       "      <td>816.0</td>\n",
       "      <td>199.0</td>\n",
       "      <td>0.196059</td>\n",
       "      <td>0.170</td>\n",
       "      <td>0.005</td>\n",
       "    </tr>\n",
       "    <tr>\n",
       "      <th>5</th>\n",
       "      <td>4</td>\n",
       "      <td>[8.0, 9.0)</td>\n",
       "      <td>769.0</td>\n",
       "      <td>12.82</td>\n",
       "      <td>630.0</td>\n",
       "      <td>139.0</td>\n",
       "      <td>0.180754</td>\n",
       "      <td>0.270</td>\n",
       "      <td>0.009</td>\n",
       "    </tr>\n",
       "    <tr>\n",
       "      <th>6</th>\n",
       "      <td>5</td>\n",
       "      <td>[9.0, 10.0)</td>\n",
       "      <td>501.0</td>\n",
       "      <td>8.35</td>\n",
       "      <td>419.0</td>\n",
       "      <td>82.0</td>\n",
       "      <td>0.163673</td>\n",
       "      <td>0.390</td>\n",
       "      <td>0.011</td>\n",
       "    </tr>\n",
       "    <tr>\n",
       "      <th>7</th>\n",
       "      <td>6</td>\n",
       "      <td>[10.0, 11.0)</td>\n",
       "      <td>379.0</td>\n",
       "      <td>6.32</td>\n",
       "      <td>326.0</td>\n",
       "      <td>53.0</td>\n",
       "      <td>0.139842</td>\n",
       "      <td>0.575</td>\n",
       "      <td>0.018</td>\n",
       "    </tr>\n",
       "    <tr>\n",
       "      <th>8</th>\n",
       "      <td>7</td>\n",
       "      <td>[11.0, 12.0)</td>\n",
       "      <td>350.0</td>\n",
       "      <td>5.83</td>\n",
       "      <td>287.0</td>\n",
       "      <td>63.0</td>\n",
       "      <td>0.180000</td>\n",
       "      <td>0.275</td>\n",
       "      <td>0.004</td>\n",
       "    </tr>\n",
       "    <tr>\n",
       "      <th>9</th>\n",
       "      <td>8</td>\n",
       "      <td>[12.0, inf)</td>\n",
       "      <td>476.0</td>\n",
       "      <td>7.93</td>\n",
       "      <td>409.0</td>\n",
       "      <td>67.0</td>\n",
       "      <td>0.140756</td>\n",
       "      <td>0.567</td>\n",
       "      <td>0.022</td>\n",
       "    </tr>\n",
       "  </tbody>\n",
       "</table>\n",
       "</div>"
      ]
     },
     "metadata": {},
     "execution_count": 6
    }
   ],
   "metadata": {}
  },
  {
   "cell_type": "code",
   "execution_count": 9,
   "source": [
    "bucketing_process.bucket_tables_.keys()"
   ],
   "outputs": [
    {
     "output_type": "execute_result",
     "data": {
      "text/plain": [
       "dict_keys(['EDUCATION', 'MARRIAGE', 'LIMIT_BAL', 'BILL_AMT1'])"
      ]
     },
     "metadata": {},
     "execution_count": 9
    }
   ],
   "metadata": {}
  },
  {
   "cell_type": "markdown",
   "source": [
    "## Methods and Attributes\n",
    "\n",
    "A `BucketingProcess` instance has all the similar methods & attributes of a bucketer:\n",
    "\n",
    "- `.summary()`\n",
    "- `.bucket_table(column)`\n",
    "- `.plot_bucket(column)`\n",
    "- `.features_bucket_mapping`\n",
    "- `.save_to_yaml()`\n",
    "- `.fit_interactive()`\n",
    "\n",
    "but also adds a few unique ones:\n",
    "\n",
    "- `.prebucket_table(column)`\n",
    "- `.plot_prebucket(column)`\n"
   ],
   "metadata": {}
  },
  {
   "cell_type": "code",
   "execution_count": null,
   "source": [
    "bucketing_process.summary()"
   ],
   "outputs": [],
   "metadata": {}
  },
  {
   "cell_type": "code",
   "execution_count": 5,
   "source": [
    "bucketing_process.prebucket_table('MARRIAGE')"
   ],
   "outputs": [
    {
     "output_type": "execute_result",
     "data": {
      "text/plain": [
       "   pre-bucket    label   Count  Count (%)  Non-event  Event  Event Rate  \\\n",
       "0          -2    Other     0.0       0.00        0.0    0.0         NaN   \n",
       "1          -1  Missing     0.0       0.00        0.0    0.0         NaN   \n",
       "2           0        2  3138.0      52.30     2493.0  645.0    0.205545   \n",
       "3           1        1  2784.0      46.40     2108.0  676.0    0.242816   \n",
       "4           2        3    64.0       1.07       42.0   22.0    0.343750   \n",
       "5           3        0    14.0       0.23       12.0    2.0    0.142857   \n",
       "\n",
       "     WoE     IV  bucket  \n",
       "0  0.000  0.000      -2  \n",
       "1  0.000  0.000      -1  \n",
       "2  0.110  0.006       0  \n",
       "3 -0.104  0.005       1  \n",
       "4 -0.594  0.004       1  \n",
       "5  0.547  0.001       0  "
      ],
      "text/html": [
       "<div>\n",
       "<style scoped>\n",
       "    .dataframe tbody tr th:only-of-type {\n",
       "        vertical-align: middle;\n",
       "    }\n",
       "\n",
       "    .dataframe tbody tr th {\n",
       "        vertical-align: top;\n",
       "    }\n",
       "\n",
       "    .dataframe thead th {\n",
       "        text-align: right;\n",
       "    }\n",
       "</style>\n",
       "<table border=\"1\" class=\"dataframe\">\n",
       "  <thead>\n",
       "    <tr style=\"text-align: right;\">\n",
       "      <th></th>\n",
       "      <th>pre-bucket</th>\n",
       "      <th>label</th>\n",
       "      <th>Count</th>\n",
       "      <th>Count (%)</th>\n",
       "      <th>Non-event</th>\n",
       "      <th>Event</th>\n",
       "      <th>Event Rate</th>\n",
       "      <th>WoE</th>\n",
       "      <th>IV</th>\n",
       "      <th>bucket</th>\n",
       "    </tr>\n",
       "  </thead>\n",
       "  <tbody>\n",
       "    <tr>\n",
       "      <th>0</th>\n",
       "      <td>-2</td>\n",
       "      <td>Other</td>\n",
       "      <td>0.0</td>\n",
       "      <td>0.00</td>\n",
       "      <td>0.0</td>\n",
       "      <td>0.0</td>\n",
       "      <td>NaN</td>\n",
       "      <td>0.000</td>\n",
       "      <td>0.000</td>\n",
       "      <td>-2</td>\n",
       "    </tr>\n",
       "    <tr>\n",
       "      <th>1</th>\n",
       "      <td>-1</td>\n",
       "      <td>Missing</td>\n",
       "      <td>0.0</td>\n",
       "      <td>0.00</td>\n",
       "      <td>0.0</td>\n",
       "      <td>0.0</td>\n",
       "      <td>NaN</td>\n",
       "      <td>0.000</td>\n",
       "      <td>0.000</td>\n",
       "      <td>-1</td>\n",
       "    </tr>\n",
       "    <tr>\n",
       "      <th>2</th>\n",
       "      <td>0</td>\n",
       "      <td>2</td>\n",
       "      <td>3138.0</td>\n",
       "      <td>52.30</td>\n",
       "      <td>2493.0</td>\n",
       "      <td>645.0</td>\n",
       "      <td>0.205545</td>\n",
       "      <td>0.110</td>\n",
       "      <td>0.006</td>\n",
       "      <td>0</td>\n",
       "    </tr>\n",
       "    <tr>\n",
       "      <th>3</th>\n",
       "      <td>1</td>\n",
       "      <td>1</td>\n",
       "      <td>2784.0</td>\n",
       "      <td>46.40</td>\n",
       "      <td>2108.0</td>\n",
       "      <td>676.0</td>\n",
       "      <td>0.242816</td>\n",
       "      <td>-0.104</td>\n",
       "      <td>0.005</td>\n",
       "      <td>1</td>\n",
       "    </tr>\n",
       "    <tr>\n",
       "      <th>4</th>\n",
       "      <td>2</td>\n",
       "      <td>3</td>\n",
       "      <td>64.0</td>\n",
       "      <td>1.07</td>\n",
       "      <td>42.0</td>\n",
       "      <td>22.0</td>\n",
       "      <td>0.343750</td>\n",
       "      <td>-0.594</td>\n",
       "      <td>0.004</td>\n",
       "      <td>1</td>\n",
       "    </tr>\n",
       "    <tr>\n",
       "      <th>5</th>\n",
       "      <td>3</td>\n",
       "      <td>0</td>\n",
       "      <td>14.0</td>\n",
       "      <td>0.23</td>\n",
       "      <td>12.0</td>\n",
       "      <td>2.0</td>\n",
       "      <td>0.142857</td>\n",
       "      <td>0.547</td>\n",
       "      <td>0.001</td>\n",
       "      <td>0</td>\n",
       "    </tr>\n",
       "  </tbody>\n",
       "</table>\n",
       "</div>"
      ]
     },
     "metadata": {},
     "execution_count": 5
    }
   ],
   "metadata": {}
  },
  {
   "cell_type": "code",
   "execution_count": 3,
   "source": [
    "bucketing_process.bucket_table('MARRIAGE')"
   ],
   "outputs": [
    {
     "output_type": "execute_result",
     "data": {
      "text/plain": [
       "   bucket    label   Count  Count (%)  Non-event  Event  Event Rate    WoE  \\\n",
       "0      -2    Other     0.0       0.00        0.0    0.0         NaN  0.000   \n",
       "1      -1  Missing     0.0       0.00        0.0    0.0         NaN  0.000   \n",
       "2       0     0, 3  3152.0      52.53     2505.0  647.0    0.205266  0.112   \n",
       "3       1     1, 2  2848.0      47.47     2150.0  698.0    0.245084 -0.117   \n",
       "\n",
       "      IV  \n",
       "0  0.000  \n",
       "1  0.000  \n",
       "2  0.006  \n",
       "3  0.007  "
      ],
      "text/html": [
       "<div>\n",
       "<style scoped>\n",
       "    .dataframe tbody tr th:only-of-type {\n",
       "        vertical-align: middle;\n",
       "    }\n",
       "\n",
       "    .dataframe tbody tr th {\n",
       "        vertical-align: top;\n",
       "    }\n",
       "\n",
       "    .dataframe thead th {\n",
       "        text-align: right;\n",
       "    }\n",
       "</style>\n",
       "<table border=\"1\" class=\"dataframe\">\n",
       "  <thead>\n",
       "    <tr style=\"text-align: right;\">\n",
       "      <th></th>\n",
       "      <th>bucket</th>\n",
       "      <th>label</th>\n",
       "      <th>Count</th>\n",
       "      <th>Count (%)</th>\n",
       "      <th>Non-event</th>\n",
       "      <th>Event</th>\n",
       "      <th>Event Rate</th>\n",
       "      <th>WoE</th>\n",
       "      <th>IV</th>\n",
       "    </tr>\n",
       "  </thead>\n",
       "  <tbody>\n",
       "    <tr>\n",
       "      <th>0</th>\n",
       "      <td>-2</td>\n",
       "      <td>Other</td>\n",
       "      <td>0.0</td>\n",
       "      <td>0.00</td>\n",
       "      <td>0.0</td>\n",
       "      <td>0.0</td>\n",
       "      <td>NaN</td>\n",
       "      <td>0.000</td>\n",
       "      <td>0.000</td>\n",
       "    </tr>\n",
       "    <tr>\n",
       "      <th>1</th>\n",
       "      <td>-1</td>\n",
       "      <td>Missing</td>\n",
       "      <td>0.0</td>\n",
       "      <td>0.00</td>\n",
       "      <td>0.0</td>\n",
       "      <td>0.0</td>\n",
       "      <td>NaN</td>\n",
       "      <td>0.000</td>\n",
       "      <td>0.000</td>\n",
       "    </tr>\n",
       "    <tr>\n",
       "      <th>2</th>\n",
       "      <td>0</td>\n",
       "      <td>0, 3</td>\n",
       "      <td>3152.0</td>\n",
       "      <td>52.53</td>\n",
       "      <td>2505.0</td>\n",
       "      <td>647.0</td>\n",
       "      <td>0.205266</td>\n",
       "      <td>0.112</td>\n",
       "      <td>0.006</td>\n",
       "    </tr>\n",
       "    <tr>\n",
       "      <th>3</th>\n",
       "      <td>1</td>\n",
       "      <td>1, 2</td>\n",
       "      <td>2848.0</td>\n",
       "      <td>47.47</td>\n",
       "      <td>2150.0</td>\n",
       "      <td>698.0</td>\n",
       "      <td>0.245084</td>\n",
       "      <td>-0.117</td>\n",
       "      <td>0.007</td>\n",
       "    </tr>\n",
       "  </tbody>\n",
       "</table>\n",
       "</div>"
      ]
     },
     "metadata": {},
     "execution_count": 3
    }
   ],
   "metadata": {}
  },
  {
   "cell_type": "code",
   "execution_count": null,
   "source": [
    "bucketing_process.plot_prebucket(\"LIMIT_BAL\", format=\"png\", scale=2, width=1050, height=525)"
   ],
   "outputs": [],
   "metadata": {
    "ExecuteTime": {
     "end_time": "2021-04-21T21:36:01.141181Z",
     "start_time": "2021-04-21T21:36:00.510104Z"
    }
   }
  },
  {
   "cell_type": "markdown",
   "source": [
    "## The `.features_bucket_mapping` attribute\n",
    "\n",
    "All skorecard bucketing classes have a `.features_bucket_mapping` attribute to access the stored bucketing information to go from an input feature to a bucketed feature. In the case of `BucketingProcess`, because there is a prebucketing and bucketing step, this means the bucket mapping reflects the net effect of merging both steps into one. This is demonstrated below:"
   ],
   "metadata": {}
  },
  {
   "cell_type": "code",
   "execution_count": 4,
   "source": [
    "bucketing_process.pre_pipeline.features_bucket_mapping_.get('MARRIAGE').labels"
   ],
   "outputs": [
    {
     "output_type": "execute_result",
     "data": {
      "text/plain": [
       "{3: '0', 1: '1', 0: '2', 2: '3', -1: 'Missing', -2: 'Other'}"
      ]
     },
     "metadata": {},
     "execution_count": 4
    }
   ],
   "metadata": {}
  },
  {
   "cell_type": "code",
   "execution_count": null,
   "source": [
    "bucketing_process.pipeline.features_bucket_mapping_.get('EDUCATION')"
   ],
   "outputs": [],
   "metadata": {}
  },
  {
   "cell_type": "code",
   "execution_count": null,
   "source": [
    "bucketing_process.features_bucket_mapping_.get('EDUCATION')"
   ],
   "outputs": [],
   "metadata": {}
  },
  {
   "cell_type": "markdown",
   "source": [
    "## The `.fit_interactive()` method\n",
    "\n",
    "All skorecard bucketing classes have a `.fit_interactive()` method. In the case of `BucketingProcess` this will launch a slightly different app that shows the pre-buckets and the buckets, and allows you to edit the prebucketing as well."
   ],
   "metadata": {}
  },
  {
   "cell_type": "code",
   "execution_count": 34,
   "source": [
    "bucketing_process.fit_interactive(X, y, port=7001) # not run"
   ],
   "outputs": [
    {
     "output_type": "stream",
     "name": "stdout",
     "text": [
      "Dash app running on http://127.0.0.1:7001/\n"
     ]
    }
   ],
   "metadata": {}
  },
  {
   "cell_type": "markdown",
   "source": [
    "# The `Skorecard()` class"
   ],
   "metadata": {}
  },
  {
   "cell_type": "code",
   "execution_count": null,
   "source": [
    "from skorecard import Skorecard\n",
    "model = Skorecard(bucketing=bucketing_process)\n",
    "model.fit(X, y)\n",
    "model.get_stats()"
   ],
   "outputs": [],
   "metadata": {
    "ExecuteTime": {
     "end_time": "2021-04-21T21:36:01.146183Z",
     "start_time": "2021-04-21T21:35:58.408Z"
    }
   }
  },
  {
   "cell_type": "code",
   "execution_count": 38,
   "source": [
    "input_buckets = [-3, -2, -1, 1, 0, 3, 2, 4, 0]\n",
    "\n",
    "from skorecard.apps.app_callbacks import is_sequential\n",
    "is_sequential(sorted(input_buckets))\n"
   ],
   "outputs": [
    {
     "output_type": "execute_result",
     "data": {
      "text/plain": [
       "True"
      ]
     },
     "metadata": {},
     "execution_count": 38
    }
   ],
   "metadata": {}
  },
  {
   "cell_type": "code",
   "execution_count": null,
   "source": [
    "model.bucket_table('EDUCATION')"
   ],
   "outputs": [],
   "metadata": {}
  },
  {
   "cell_type": "code",
   "execution_count": null,
   "source": [
    "model.bucketing.features_bucket_mapping_"
   ],
   "outputs": [],
   "metadata": {}
  }
 ],
 "metadata": {
  "kernelspec": {
   "name": "python3",
   "display_name": "Python 3.8.5 64-bit ('py38': conda)"
  },
  "language_info": {
   "codemirror_mode": {
    "name": "ipython",
    "version": 3
   },
   "file_extension": ".py",
   "mimetype": "text/x-python",
   "name": "python",
   "nbconvert_exporter": "python",
   "pygments_lexer": "ipython3",
   "version": "3.8.5"
  },
  "latex_envs": {
   "LaTeX_envs_menu_present": true,
   "autoclose": false,
   "autocomplete": true,
   "bibliofile": "biblio.bib",
   "cite_by": "apalike",
   "current_citInitial": 1,
   "eqLabelWithNumbers": true,
   "eqNumInitial": 1,
   "hotkeys": {
    "equation": "Ctrl-E",
    "itemize": "Ctrl-I"
   },
   "labels_anchors": false,
   "latex_user_defs": false,
   "report_style_numbering": false,
   "user_envs_cfg": false
  },
  "metadata": {
   "interpreter": {
    "hash": "aee8b7b246df8f9039afb4144a1f6fd8d2ca17a180786b69acc140d282b71a49"
   }
  },
  "interpreter": {
   "hash": "358a4423f52aa1f7341f935cecae218fabcbaaa95ea1661253f2b730112d1496"
  }
 },
 "nbformat": 4,
 "nbformat_minor": 2
}