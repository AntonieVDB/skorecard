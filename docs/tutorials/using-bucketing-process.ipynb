{
 "cells": [
  {
   "cell_type": "markdown",
   "metadata": {},
   "source": [
    "# Using the BucketingProcess\n",
    "\n",
    "The bucketingprocess enables a two-step bucketing approach, where a feature is first pre-bucketed to ~100 pre-buckets, and then bucketed. \n",
    "\n",
    "This is a common practice, it reduces the complexity of finding exact boundaries to the problem of finding which of 100 buckets to merge together.\n",
    "\n"
   ]
  },
  {
   "cell_type": "code",
   "execution_count": 1,
   "metadata": {
    "ExecuteTime": {
     "end_time": "2021-04-21T21:35:58.417409Z",
     "start_time": "2021-04-21T21:35:58.393952Z"
    }
   },
   "outputs": [],
   "source": [
    "%%capture\n",
    "%load_ext autoreload\n",
    "%autoreload 2"
   ]
  },
  {
   "cell_type": "code",
   "execution_count": 10,
   "metadata": {
    "ExecuteTime": {
     "end_time": "2021-04-21T21:35:59.938746Z",
     "start_time": "2021-04-21T21:35:58.418986Z"
    }
   },
   "outputs": [],
   "source": [
    "from skorecard import datasets\n",
    "from skorecard.bucketers import DecisionTreeBucketer, OptimalBucketer, AsIsCategoricalBucketer\n",
    "from skorecard.pipeline import BucketingProcess\n",
    "\n",
    "from sklearn.pipeline import make_pipeline"
   ]
  },
  {
   "source": [
    "## Define"
   ],
   "cell_type": "markdown",
   "metadata": {}
  },
  {
   "cell_type": "code",
   "execution_count": 3,
   "metadata": {
    "ExecuteTime": {
     "end_time": "2021-04-21T21:36:00.282542Z",
     "start_time": "2021-04-21T21:35:59.941105Z"
    }
   },
   "outputs": [],
   "source": [
    "\n",
    "df = datasets.load_uci_credit_card(as_frame=True)\n",
    "y = df[\"default\"]\n",
    "X = df.drop(columns=[\"default\"])\n",
    "\n",
    "num_cols = [\"LIMIT_BAL\", \"BILL_AMT1\"]\n",
    "cat_cols = [\"EDUCATION\", \"MARRIAGE\"]\n",
    "specials = {'EDUCATION' : {'Is 1': [1] } }\n",
    "\n",
    "bucketing_process = BucketingProcess(\n",
    "        prebucketing_pipeline=make_pipeline(\n",
    "                DecisionTreeBucketer(variables=num_cols, max_n_bins=100, min_bin_size=0.05),\n",
    "                AsIsCategoricalBucketer(variables=cat_cols)\n",
    "        ),\n",
    "        bucketing_pipeline=make_pipeline(\n",
    "                OptimalBucketer(variables=num_cols, max_n_bins=10, min_bin_size=0.05),\n",
    "                OptimalBucketer(variables=cat_cols,\n",
    "                        variables_type='categorical',\n",
    "                        max_n_bins=10,\n",
    "                        min_bin_size=0.05),\n",
    "        ),\n",
    "        specials = specials\n",
    ")"
   ]
  },
  {
   "source": [
    "## Fit, Transform"
   ],
   "cell_type": "markdown",
   "metadata": {}
  },
  {
   "cell_type": "code",
   "execution_count": 4,
   "metadata": {
    "ExecuteTime": {
     "end_time": "2021-04-21T21:36:00.318431Z",
     "start_time": "2021-04-21T21:36:00.284876Z"
    }
   },
   "outputs": [
    {
     "output_type": "execute_result",
     "data": {
      "text/plain": [
       "   EDUCATION  MARRIAGE  LIMIT_BAL  BILL_AMT1\n",
       "0          1         2   400000.0   201800.0\n",
       "1          2         2    80000.0    80610.0\n",
       "2          1         2   500000.0   499452.0\n",
       "3          1         1   140000.0      450.0\n",
       "4          2         1   420000.0    56107.0"
      ],
      "text/html": "<div>\n<style scoped>\n    .dataframe tbody tr th:only-of-type {\n        vertical-align: middle;\n    }\n\n    .dataframe tbody tr th {\n        vertical-align: top;\n    }\n\n    .dataframe thead th {\n        text-align: right;\n    }\n</style>\n<table border=\"1\" class=\"dataframe\">\n  <thead>\n    <tr style=\"text-align: right;\">\n      <th></th>\n      <th>EDUCATION</th>\n      <th>MARRIAGE</th>\n      <th>LIMIT_BAL</th>\n      <th>BILL_AMT1</th>\n    </tr>\n  </thead>\n  <tbody>\n    <tr>\n      <th>0</th>\n      <td>1</td>\n      <td>2</td>\n      <td>400000.0</td>\n      <td>201800.0</td>\n    </tr>\n    <tr>\n      <th>1</th>\n      <td>2</td>\n      <td>2</td>\n      <td>80000.0</td>\n      <td>80610.0</td>\n    </tr>\n    <tr>\n      <th>2</th>\n      <td>1</td>\n      <td>2</td>\n      <td>500000.0</td>\n      <td>499452.0</td>\n    </tr>\n    <tr>\n      <th>3</th>\n      <td>1</td>\n      <td>1</td>\n      <td>140000.0</td>\n      <td>450.0</td>\n    </tr>\n    <tr>\n      <th>4</th>\n      <td>2</td>\n      <td>1</td>\n      <td>420000.0</td>\n      <td>56107.0</td>\n    </tr>\n  </tbody>\n</table>\n</div>"
     },
     "metadata": {},
     "execution_count": 4
    }
   ],
   "source": [
    "X.head()"
   ]
  },
  {
   "cell_type": "code",
   "execution_count": 11,
   "metadata": {
    "ExecuteTime": {
     "end_time": "2021-04-21T21:36:00.358975Z",
     "start_time": "2021-04-21T21:36:00.320248Z"
    }
   },
   "outputs": [
    {
     "output_type": "execute_result",
     "data": {
      "text/plain": [
       "   EDUCATION  MARRIAGE  LIMIT_BAL  BILL_AMT1\n",
       "0         -3         0          8          5\n",
       "1          1         0          3          4\n",
       "2         -3         0          8          5\n",
       "3         -3         1          4          0\n",
       "4          1         1          8          3"
      ],
      "text/html": "<div>\n<style scoped>\n    .dataframe tbody tr th:only-of-type {\n        vertical-align: middle;\n    }\n\n    .dataframe tbody tr th {\n        vertical-align: top;\n    }\n\n    .dataframe thead th {\n        text-align: right;\n    }\n</style>\n<table border=\"1\" class=\"dataframe\">\n  <thead>\n    <tr style=\"text-align: right;\">\n      <th></th>\n      <th>EDUCATION</th>\n      <th>MARRIAGE</th>\n      <th>LIMIT_BAL</th>\n      <th>BILL_AMT1</th>\n    </tr>\n  </thead>\n  <tbody>\n    <tr>\n      <th>0</th>\n      <td>-3</td>\n      <td>0</td>\n      <td>8</td>\n      <td>5</td>\n    </tr>\n    <tr>\n      <th>1</th>\n      <td>1</td>\n      <td>0</td>\n      <td>3</td>\n      <td>4</td>\n    </tr>\n    <tr>\n      <th>2</th>\n      <td>-3</td>\n      <td>0</td>\n      <td>8</td>\n      <td>5</td>\n    </tr>\n    <tr>\n      <th>3</th>\n      <td>-3</td>\n      <td>1</td>\n      <td>4</td>\n      <td>0</td>\n    </tr>\n    <tr>\n      <th>4</th>\n      <td>1</td>\n      <td>1</td>\n      <td>8</td>\n      <td>3</td>\n    </tr>\n  </tbody>\n</table>\n</div>"
     },
     "metadata": {},
     "execution_count": 11
    }
   ],
   "source": [
    "bucketing_process.fit_transform(X, y).head()"
   ]
  },
  {
   "source": [
    "## inspect\n",
    "\n",
    "A `BucketingProcess` instance similar methods & attributes of a bucketer:\n",
    "\n",
    "- `.summary()`\n",
    "- `.prebucket_table(column)`\n",
    "- `.bucket_table(column)`\n",
    "- `.plot_prebucket(column)`\n",
    "- `.plot_bucket(column)`\n",
    "- `.features_bucket_mapping`\n",
    "- `.save_to_yaml()`"
   ],
   "cell_type": "markdown",
   "metadata": {}
  },
  {
   "cell_type": "code",
   "execution_count": 12,
   "metadata": {},
   "outputs": [
    {
     "output_type": "execute_result",
     "data": {
      "text/plain": [
       "      column num_prebuckets num_buckets  IV_score    dtype\n",
       "0  EDUCATION              9           5  0.036308    int64\n",
       "1   MARRIAGE              6           4  0.013054    int64\n",
       "2  LIMIT_BAL             14          10  0.168862  float64\n",
       "3  BILL_AMT1             15           7  0.005823  float64"
      ],
      "text/html": "<div>\n<style scoped>\n    .dataframe tbody tr th:only-of-type {\n        vertical-align: middle;\n    }\n\n    .dataframe tbody tr th {\n        vertical-align: top;\n    }\n\n    .dataframe thead th {\n        text-align: right;\n    }\n</style>\n<table border=\"1\" class=\"dataframe\">\n  <thead>\n    <tr style=\"text-align: right;\">\n      <th></th>\n      <th>column</th>\n      <th>num_prebuckets</th>\n      <th>num_buckets</th>\n      <th>IV_score</th>\n      <th>dtype</th>\n    </tr>\n  </thead>\n  <tbody>\n    <tr>\n      <th>0</th>\n      <td>EDUCATION</td>\n      <td>9</td>\n      <td>5</td>\n      <td>0.036308</td>\n      <td>int64</td>\n    </tr>\n    <tr>\n      <th>1</th>\n      <td>MARRIAGE</td>\n      <td>6</td>\n      <td>4</td>\n      <td>0.013054</td>\n      <td>int64</td>\n    </tr>\n    <tr>\n      <th>2</th>\n      <td>LIMIT_BAL</td>\n      <td>14</td>\n      <td>10</td>\n      <td>0.168862</td>\n      <td>float64</td>\n    </tr>\n    <tr>\n      <th>3</th>\n      <td>BILL_AMT1</td>\n      <td>15</td>\n      <td>7</td>\n      <td>0.005823</td>\n      <td>float64</td>\n    </tr>\n  </tbody>\n</table>\n</div>"
     },
     "metadata": {},
     "execution_count": 12
    }
   ],
   "source": [
    "bucketing_process.summary()"
   ]
  },
  {
   "cell_type": "code",
   "execution_count": 18,
   "metadata": {
    "ExecuteTime": {
     "end_time": "2021-04-21T21:36:00.397957Z",
     "start_time": "2021-04-21T21:36:00.360248Z"
    }
   },
   "outputs": [
    {
     "output_type": "execute_result",
     "data": {
      "text/plain": [
       "    pre-bucket                 label  Count  Count (%)  Non-event  Event  \\\n",
       "0           -1               Missing    0.0       0.00        0.0    0.0   \n",
       "1            0       [-inf, 25000.0)  479.0       7.98      300.0  179.0   \n",
       "2            1    [25000.0, 45000.0)  370.0       6.17      233.0  137.0   \n",
       "3            2    [45000.0, 55000.0)  676.0      11.27      518.0  158.0   \n",
       "4            3    [55000.0, 75000.0)  336.0       5.60      233.0  103.0   \n",
       "5            4    [75000.0, 85000.0)  319.0       5.32      243.0   76.0   \n",
       "6            5   [85000.0, 105000.0)  330.0       5.50      241.0   89.0   \n",
       "7            6  [105000.0, 145000.0)  566.0       9.43      436.0  130.0   \n",
       "8            7  [145000.0, 175000.0)  449.0       7.48      380.0   69.0   \n",
       "9            8  [175000.0, 225000.0)  769.0      12.82      630.0  139.0   \n",
       "10           9  [225000.0, 275000.0)  501.0       8.35      419.0   82.0   \n",
       "11          10  [275000.0, 325000.0)  379.0       6.32      326.0   53.0   \n",
       "12          11  [325000.0, 385000.0)  350.0       5.83      287.0   63.0   \n",
       "13          12       [385000.0, inf)  476.0       7.93      409.0   67.0   \n",
       "\n",
       "    Event Rate    WoE     IV  bucket  \n",
       "0          NaN  0.000  0.000       0  \n",
       "1     0.373695 -0.725 -0.050       0  \n",
       "2     0.370270 -0.710 -0.037       1  \n",
       "3     0.233728 -0.054 -0.000       2  \n",
       "4     0.306548 -0.425 -0.011       2  \n",
       "5     0.238245 -0.079 -0.000       3  \n",
       "6     0.269697 -0.245 -0.004       3  \n",
       "7     0.229682 -0.031 -0.000       4  \n",
       "8     0.153675  0.464 -0.014       5  \n",
       "9     0.180754  0.270 -0.009       5  \n",
       "10    0.163673  0.390 -0.011       6  \n",
       "11    0.139842  0.575 -0.018       7  \n",
       "12    0.180000  0.275 -0.004       7  \n",
       "13    0.140756  0.567 -0.022       8  "
      ],
      "text/html": "<div>\n<style scoped>\n    .dataframe tbody tr th:only-of-type {\n        vertical-align: middle;\n    }\n\n    .dataframe tbody tr th {\n        vertical-align: top;\n    }\n\n    .dataframe thead th {\n        text-align: right;\n    }\n</style>\n<table border=\"1\" class=\"dataframe\">\n  <thead>\n    <tr style=\"text-align: right;\">\n      <th></th>\n      <th>pre-bucket</th>\n      <th>label</th>\n      <th>Count</th>\n      <th>Count (%)</th>\n      <th>Non-event</th>\n      <th>Event</th>\n      <th>Event Rate</th>\n      <th>WoE</th>\n      <th>IV</th>\n      <th>bucket</th>\n    </tr>\n  </thead>\n  <tbody>\n    <tr>\n      <th>0</th>\n      <td>-1</td>\n      <td>Missing</td>\n      <td>0.0</td>\n      <td>0.00</td>\n      <td>0.0</td>\n      <td>0.0</td>\n      <td>NaN</td>\n      <td>0.000</td>\n      <td>0.000</td>\n      <td>0</td>\n    </tr>\n    <tr>\n      <th>1</th>\n      <td>0</td>\n      <td>[-inf, 25000.0)</td>\n      <td>479.0</td>\n      <td>7.98</td>\n      <td>300.0</td>\n      <td>179.0</td>\n      <td>0.373695</td>\n      <td>-0.725</td>\n      <td>-0.050</td>\n      <td>0</td>\n    </tr>\n    <tr>\n      <th>2</th>\n      <td>1</td>\n      <td>[25000.0, 45000.0)</td>\n      <td>370.0</td>\n      <td>6.17</td>\n      <td>233.0</td>\n      <td>137.0</td>\n      <td>0.370270</td>\n      <td>-0.710</td>\n      <td>-0.037</td>\n      <td>1</td>\n    </tr>\n    <tr>\n      <th>3</th>\n      <td>2</td>\n      <td>[45000.0, 55000.0)</td>\n      <td>676.0</td>\n      <td>11.27</td>\n      <td>518.0</td>\n      <td>158.0</td>\n      <td>0.233728</td>\n      <td>-0.054</td>\n      <td>-0.000</td>\n      <td>2</td>\n    </tr>\n    <tr>\n      <th>4</th>\n      <td>3</td>\n      <td>[55000.0, 75000.0)</td>\n      <td>336.0</td>\n      <td>5.60</td>\n      <td>233.0</td>\n      <td>103.0</td>\n      <td>0.306548</td>\n      <td>-0.425</td>\n      <td>-0.011</td>\n      <td>2</td>\n    </tr>\n    <tr>\n      <th>5</th>\n      <td>4</td>\n      <td>[75000.0, 85000.0)</td>\n      <td>319.0</td>\n      <td>5.32</td>\n      <td>243.0</td>\n      <td>76.0</td>\n      <td>0.238245</td>\n      <td>-0.079</td>\n      <td>-0.000</td>\n      <td>3</td>\n    </tr>\n    <tr>\n      <th>6</th>\n      <td>5</td>\n      <td>[85000.0, 105000.0)</td>\n      <td>330.0</td>\n      <td>5.50</td>\n      <td>241.0</td>\n      <td>89.0</td>\n      <td>0.269697</td>\n      <td>-0.245</td>\n      <td>-0.004</td>\n      <td>3</td>\n    </tr>\n    <tr>\n      <th>7</th>\n      <td>6</td>\n      <td>[105000.0, 145000.0)</td>\n      <td>566.0</td>\n      <td>9.43</td>\n      <td>436.0</td>\n      <td>130.0</td>\n      <td>0.229682</td>\n      <td>-0.031</td>\n      <td>-0.000</td>\n      <td>4</td>\n    </tr>\n    <tr>\n      <th>8</th>\n      <td>7</td>\n      <td>[145000.0, 175000.0)</td>\n      <td>449.0</td>\n      <td>7.48</td>\n      <td>380.0</td>\n      <td>69.0</td>\n      <td>0.153675</td>\n      <td>0.464</td>\n      <td>-0.014</td>\n      <td>5</td>\n    </tr>\n    <tr>\n      <th>9</th>\n      <td>8</td>\n      <td>[175000.0, 225000.0)</td>\n      <td>769.0</td>\n      <td>12.82</td>\n      <td>630.0</td>\n      <td>139.0</td>\n      <td>0.180754</td>\n      <td>0.270</td>\n      <td>-0.009</td>\n      <td>5</td>\n    </tr>\n    <tr>\n      <th>10</th>\n      <td>9</td>\n      <td>[225000.0, 275000.0)</td>\n      <td>501.0</td>\n      <td>8.35</td>\n      <td>419.0</td>\n      <td>82.0</td>\n      <td>0.163673</td>\n      <td>0.390</td>\n      <td>-0.011</td>\n      <td>6</td>\n    </tr>\n    <tr>\n      <th>11</th>\n      <td>10</td>\n      <td>[275000.0, 325000.0)</td>\n      <td>379.0</td>\n      <td>6.32</td>\n      <td>326.0</td>\n      <td>53.0</td>\n      <td>0.139842</td>\n      <td>0.575</td>\n      <td>-0.018</td>\n      <td>7</td>\n    </tr>\n    <tr>\n      <th>12</th>\n      <td>11</td>\n      <td>[325000.0, 385000.0)</td>\n      <td>350.0</td>\n      <td>5.83</td>\n      <td>287.0</td>\n      <td>63.0</td>\n      <td>0.180000</td>\n      <td>0.275</td>\n      <td>-0.004</td>\n      <td>7</td>\n    </tr>\n    <tr>\n      <th>13</th>\n      <td>12</td>\n      <td>[385000.0, inf)</td>\n      <td>476.0</td>\n      <td>7.93</td>\n      <td>409.0</td>\n      <td>67.0</td>\n      <td>0.140756</td>\n      <td>0.567</td>\n      <td>-0.022</td>\n      <td>8</td>\n    </tr>\n  </tbody>\n</table>\n</div>"
     },
     "metadata": {},
     "execution_count": 18
    }
   ],
   "source": [
    "bucketing_process.prebucket_table(\"LIMIT_BAL\")"
   ]
  },
  {
   "cell_type": "code",
   "execution_count": 19,
   "metadata": {
    "ExecuteTime": {
     "end_time": "2021-04-21T21:36:00.434935Z",
     "start_time": "2021-04-21T21:36:00.399763Z"
    }
   },
   "outputs": [
    {
     "output_type": "execute_result",
     "data": {
      "text/plain": [
       "   bucket         label   Count  Count (%)  Non-event  Event  Event Rate  \\\n",
       "0      -1       Missing     0.0       0.00        0.0    0.0         NaN   \n",
       "1       0   [-inf, 1.0)   479.0       7.98      300.0  179.0    0.373695   \n",
       "2       1    [1.0, 2.0)   370.0       6.17      233.0  137.0    0.370270   \n",
       "3       2    [2.0, 4.0)  1012.0      16.87      751.0  261.0    0.257905   \n",
       "4       3    [4.0, 6.0)   649.0      10.82      484.0  165.0    0.254237   \n",
       "5       4    [6.0, 7.0)   566.0       9.43      436.0  130.0    0.229682   \n",
       "6       5    [7.0, 9.0)  1218.0      20.30     1010.0  208.0    0.170772   \n",
       "7       6   [9.0, 10.0)   501.0       8.35      419.0   82.0    0.163673   \n",
       "8       7  [10.0, 12.0)   729.0      12.15      613.0  116.0    0.159122   \n",
       "9       8   [12.0, inf)   476.0       7.93      409.0   67.0    0.140756   \n",
       "\n",
       "     WoE     IV  \n",
       "0  0.000  0.000  \n",
       "1 -0.725 -0.050  \n",
       "2 -0.710 -0.037  \n",
       "3 -0.185 -0.006  \n",
       "4 -0.165 -0.003  \n",
       "5 -0.031 -0.000  \n",
       "6  0.339 -0.021  \n",
       "7  0.390 -0.011  \n",
       "8  0.423 -0.019  \n",
       "9  0.567 -0.022  "
      ],
      "text/html": "<div>\n<style scoped>\n    .dataframe tbody tr th:only-of-type {\n        vertical-align: middle;\n    }\n\n    .dataframe tbody tr th {\n        vertical-align: top;\n    }\n\n    .dataframe thead th {\n        text-align: right;\n    }\n</style>\n<table border=\"1\" class=\"dataframe\">\n  <thead>\n    <tr style=\"text-align: right;\">\n      <th></th>\n      <th>bucket</th>\n      <th>label</th>\n      <th>Count</th>\n      <th>Count (%)</th>\n      <th>Non-event</th>\n      <th>Event</th>\n      <th>Event Rate</th>\n      <th>WoE</th>\n      <th>IV</th>\n    </tr>\n  </thead>\n  <tbody>\n    <tr>\n      <th>0</th>\n      <td>-1</td>\n      <td>Missing</td>\n      <td>0.0</td>\n      <td>0.00</td>\n      <td>0.0</td>\n      <td>0.0</td>\n      <td>NaN</td>\n      <td>0.000</td>\n      <td>0.000</td>\n    </tr>\n    <tr>\n      <th>1</th>\n      <td>0</td>\n      <td>[-inf, 1.0)</td>\n      <td>479.0</td>\n      <td>7.98</td>\n      <td>300.0</td>\n      <td>179.0</td>\n      <td>0.373695</td>\n      <td>-0.725</td>\n      <td>-0.050</td>\n    </tr>\n    <tr>\n      <th>2</th>\n      <td>1</td>\n      <td>[1.0, 2.0)</td>\n      <td>370.0</td>\n      <td>6.17</td>\n      <td>233.0</td>\n      <td>137.0</td>\n      <td>0.370270</td>\n      <td>-0.710</td>\n      <td>-0.037</td>\n    </tr>\n    <tr>\n      <th>3</th>\n      <td>2</td>\n      <td>[2.0, 4.0)</td>\n      <td>1012.0</td>\n      <td>16.87</td>\n      <td>751.0</td>\n      <td>261.0</td>\n      <td>0.257905</td>\n      <td>-0.185</td>\n      <td>-0.006</td>\n    </tr>\n    <tr>\n      <th>4</th>\n      <td>3</td>\n      <td>[4.0, 6.0)</td>\n      <td>649.0</td>\n      <td>10.82</td>\n      <td>484.0</td>\n      <td>165.0</td>\n      <td>0.254237</td>\n      <td>-0.165</td>\n      <td>-0.003</td>\n    </tr>\n    <tr>\n      <th>5</th>\n      <td>4</td>\n      <td>[6.0, 7.0)</td>\n      <td>566.0</td>\n      <td>9.43</td>\n      <td>436.0</td>\n      <td>130.0</td>\n      <td>0.229682</td>\n      <td>-0.031</td>\n      <td>-0.000</td>\n    </tr>\n    <tr>\n      <th>6</th>\n      <td>5</td>\n      <td>[7.0, 9.0)</td>\n      <td>1218.0</td>\n      <td>20.30</td>\n      <td>1010.0</td>\n      <td>208.0</td>\n      <td>0.170772</td>\n      <td>0.339</td>\n      <td>-0.021</td>\n    </tr>\n    <tr>\n      <th>7</th>\n      <td>6</td>\n      <td>[9.0, 10.0)</td>\n      <td>501.0</td>\n      <td>8.35</td>\n      <td>419.0</td>\n      <td>82.0</td>\n      <td>0.163673</td>\n      <td>0.390</td>\n      <td>-0.011</td>\n    </tr>\n    <tr>\n      <th>8</th>\n      <td>7</td>\n      <td>[10.0, 12.0)</td>\n      <td>729.0</td>\n      <td>12.15</td>\n      <td>613.0</td>\n      <td>116.0</td>\n      <td>0.159122</td>\n      <td>0.423</td>\n      <td>-0.019</td>\n    </tr>\n    <tr>\n      <th>9</th>\n      <td>8</td>\n      <td>[12.0, inf)</td>\n      <td>476.0</td>\n      <td>7.93</td>\n      <td>409.0</td>\n      <td>67.0</td>\n      <td>0.140756</td>\n      <td>0.567</td>\n      <td>-0.022</td>\n    </tr>\n  </tbody>\n</table>\n</div>"
     },
     "metadata": {},
     "execution_count": 19
    }
   ],
   "source": [
    "bucketing_process.bucket_table(\"LIMIT_BAL\")"
   ]
  },
  {
   "cell_type": "code",
   "execution_count": 16,
   "metadata": {
    "ExecuteTime": {
     "end_time": "2021-04-21T21:36:01.141181Z",
     "start_time": "2021-04-21T21:36:00.510104Z"
    }
   },
   "outputs": [
    {
     "output_type": "display_data",
     "data": {
      "application/vnd.plotly.v1+json": {
       "config": {
        "plotlyServerURL": "https://plot.ly"
       },
       "data": [
        {
         "line": {
          "color": "#454c57"
         },
         "name": "Event Rate",
         "type": "scatter",
         "x": [
          "Missing",
          "[-inf, 25000.0)",
          "[25000.0, 45000.0)",
          "[45000.0, 55000.0)",
          "[55000.0, 75000.0)",
          "[75000.0, 85000.0)",
          "[85000.0, 105000.0)",
          "[105000.0, 145000.0)",
          "[145000.0, 175000.0)",
          "[175000.0, 225000.0)",
          "[225000.0, 275000.0)",
          "[275000.0, 325000.0)",
          "[325000.0, 385000.0)",
          "[385000.0, inf)"
         ],
         "xaxis": "x",
         "y": [
          null,
          0.3736951983298539,
          0.37027027027027026,
          0.23372781065088757,
          0.30654761904761907,
          0.23824451410658307,
          0.2696969696969697,
          0.22968197879858657,
          0.15367483296213807,
          0.18075422626788037,
          0.16367265469061876,
          0.13984168865435356,
          0.18,
          0.1407563025210084
         ],
         "yaxis": "y2"
        },
        {
         "marker": {
          "color": [
           "rgb(102,194,165)",
           "rgb(102,194,165)",
           "rgb(252,141,98)",
           "rgb(141,160,203)",
           "rgb(141,160,203)",
           "rgb(231,138,195)",
           "rgb(231,138,195)",
           "rgb(166,216,84)",
           "rgb(255,217,47)",
           "rgb(255,217,47)",
           "rgb(229,196,148)",
           "rgb(179,179,179)",
           "rgb(179,179,179)",
           "rgb(102,194,165)"
          ]
         },
         "name": "Bucket count percentage",
         "type": "bar",
         "x": [
          "Missing",
          "[-inf, 25000.0)",
          "[25000.0, 45000.0)",
          "[45000.0, 55000.0)",
          "[55000.0, 75000.0)",
          "[75000.0, 85000.0)",
          "[85000.0, 105000.0)",
          "[105000.0, 145000.0)",
          "[145000.0, 175000.0)",
          "[175000.0, 225000.0)",
          "[225000.0, 275000.0)",
          "[275000.0, 325000.0)",
          "[325000.0, 385000.0)",
          "[385000.0, inf)"
         ],
         "xaxis": "x",
         "y": [
          0,
          0.07980000000000001,
          0.0617,
          0.1127,
          0.055999999999999994,
          0.053200000000000004,
          0.055,
          0.0943,
          0.0748,
          0.1282,
          0.08349999999999999,
          0.0632,
          0.0583,
          0.0793
         ],
         "yaxis": "y"
        }
       ],
       "layout": {
        "height": 350,
        "margin": {
         "b": 20,
         "l": 20,
         "r": 20,
         "t": 40
        },
        "showlegend": false,
        "template": {
         "data": {
          "bar": [
           {
            "error_x": {
             "color": "#2a3f5f"
            },
            "error_y": {
             "color": "#2a3f5f"
            },
            "marker": {
             "line": {
              "color": "#E5ECF6",
              "width": 0.5
             }
            },
            "type": "bar"
           }
          ],
          "barpolar": [
           {
            "marker": {
             "line": {
              "color": "#E5ECF6",
              "width": 0.5
             }
            },
            "type": "barpolar"
           }
          ],
          "carpet": [
           {
            "aaxis": {
             "endlinecolor": "#2a3f5f",
             "gridcolor": "white",
             "linecolor": "white",
             "minorgridcolor": "white",
             "startlinecolor": "#2a3f5f"
            },
            "baxis": {
             "endlinecolor": "#2a3f5f",
             "gridcolor": "white",
             "linecolor": "white",
             "minorgridcolor": "white",
             "startlinecolor": "#2a3f5f"
            },
            "type": "carpet"
           }
          ],
          "choropleth": [
           {
            "colorbar": {
             "outlinewidth": 0,
             "ticks": ""
            },
            "type": "choropleth"
           }
          ],
          "contour": [
           {
            "colorbar": {
             "outlinewidth": 0,
             "ticks": ""
            },
            "colorscale": [
             [
              0,
              "#0d0887"
             ],
             [
              0.1111111111111111,
              "#46039f"
             ],
             [
              0.2222222222222222,
              "#7201a8"
             ],
             [
              0.3333333333333333,
              "#9c179e"
             ],
             [
              0.4444444444444444,
              "#bd3786"
             ],
             [
              0.5555555555555556,
              "#d8576b"
             ],
             [
              0.6666666666666666,
              "#ed7953"
             ],
             [
              0.7777777777777778,
              "#fb9f3a"
             ],
             [
              0.8888888888888888,
              "#fdca26"
             ],
             [
              1,
              "#f0f921"
             ]
            ],
            "type": "contour"
           }
          ],
          "contourcarpet": [
           {
            "colorbar": {
             "outlinewidth": 0,
             "ticks": ""
            },
            "type": "contourcarpet"
           }
          ],
          "heatmap": [
           {
            "colorbar": {
             "outlinewidth": 0,
             "ticks": ""
            },
            "colorscale": [
             [
              0,
              "#0d0887"
             ],
             [
              0.1111111111111111,
              "#46039f"
             ],
             [
              0.2222222222222222,
              "#7201a8"
             ],
             [
              0.3333333333333333,
              "#9c179e"
             ],
             [
              0.4444444444444444,
              "#bd3786"
             ],
             [
              0.5555555555555556,
              "#d8576b"
             ],
             [
              0.6666666666666666,
              "#ed7953"
             ],
             [
              0.7777777777777778,
              "#fb9f3a"
             ],
             [
              0.8888888888888888,
              "#fdca26"
             ],
             [
              1,
              "#f0f921"
             ]
            ],
            "type": "heatmap"
           }
          ],
          "heatmapgl": [
           {
            "colorbar": {
             "outlinewidth": 0,
             "ticks": ""
            },
            "colorscale": [
             [
              0,
              "#0d0887"
             ],
             [
              0.1111111111111111,
              "#46039f"
             ],
             [
              0.2222222222222222,
              "#7201a8"
             ],
             [
              0.3333333333333333,
              "#9c179e"
             ],
             [
              0.4444444444444444,
              "#bd3786"
             ],
             [
              0.5555555555555556,
              "#d8576b"
             ],
             [
              0.6666666666666666,
              "#ed7953"
             ],
             [
              0.7777777777777778,
              "#fb9f3a"
             ],
             [
              0.8888888888888888,
              "#fdca26"
             ],
             [
              1,
              "#f0f921"
             ]
            ],
            "type": "heatmapgl"
           }
          ],
          "histogram": [
           {
            "marker": {
             "colorbar": {
              "outlinewidth": 0,
              "ticks": ""
             }
            },
            "type": "histogram"
           }
          ],
          "histogram2d": [
           {
            "colorbar": {
             "outlinewidth": 0,
             "ticks": ""
            },
            "colorscale": [
             [
              0,
              "#0d0887"
             ],
             [
              0.1111111111111111,
              "#46039f"
             ],
             [
              0.2222222222222222,
              "#7201a8"
             ],
             [
              0.3333333333333333,
              "#9c179e"
             ],
             [
              0.4444444444444444,
              "#bd3786"
             ],
             [
              0.5555555555555556,
              "#d8576b"
             ],
             [
              0.6666666666666666,
              "#ed7953"
             ],
             [
              0.7777777777777778,
              "#fb9f3a"
             ],
             [
              0.8888888888888888,
              "#fdca26"
             ],
             [
              1,
              "#f0f921"
             ]
            ],
            "type": "histogram2d"
           }
          ],
          "histogram2dcontour": [
           {
            "colorbar": {
             "outlinewidth": 0,
             "ticks": ""
            },
            "colorscale": [
             [
              0,
              "#0d0887"
             ],
             [
              0.1111111111111111,
              "#46039f"
             ],
             [
              0.2222222222222222,
              "#7201a8"
             ],
             [
              0.3333333333333333,
              "#9c179e"
             ],
             [
              0.4444444444444444,
              "#bd3786"
             ],
             [
              0.5555555555555556,
              "#d8576b"
             ],
             [
              0.6666666666666666,
              "#ed7953"
             ],
             [
              0.7777777777777778,
              "#fb9f3a"
             ],
             [
              0.8888888888888888,
              "#fdca26"
             ],
             [
              1,
              "#f0f921"
             ]
            ],
            "type": "histogram2dcontour"
           }
          ],
          "mesh3d": [
           {
            "colorbar": {
             "outlinewidth": 0,
             "ticks": ""
            },
            "type": "mesh3d"
           }
          ],
          "parcoords": [
           {
            "line": {
             "colorbar": {
              "outlinewidth": 0,
              "ticks": ""
             }
            },
            "type": "parcoords"
           }
          ],
          "pie": [
           {
            "automargin": true,
            "type": "pie"
           }
          ],
          "scatter": [
           {
            "marker": {
             "colorbar": {
              "outlinewidth": 0,
              "ticks": ""
             }
            },
            "type": "scatter"
           }
          ],
          "scatter3d": [
           {
            "line": {
             "colorbar": {
              "outlinewidth": 0,
              "ticks": ""
             }
            },
            "marker": {
             "colorbar": {
              "outlinewidth": 0,
              "ticks": ""
             }
            },
            "type": "scatter3d"
           }
          ],
          "scattercarpet": [
           {
            "marker": {
             "colorbar": {
              "outlinewidth": 0,
              "ticks": ""
             }
            },
            "type": "scattercarpet"
           }
          ],
          "scattergeo": [
           {
            "marker": {
             "colorbar": {
              "outlinewidth": 0,
              "ticks": ""
             }
            },
            "type": "scattergeo"
           }
          ],
          "scattergl": [
           {
            "marker": {
             "colorbar": {
              "outlinewidth": 0,
              "ticks": ""
             }
            },
            "type": "scattergl"
           }
          ],
          "scattermapbox": [
           {
            "marker": {
             "colorbar": {
              "outlinewidth": 0,
              "ticks": ""
             }
            },
            "type": "scattermapbox"
           }
          ],
          "scatterpolar": [
           {
            "marker": {
             "colorbar": {
              "outlinewidth": 0,
              "ticks": ""
             }
            },
            "type": "scatterpolar"
           }
          ],
          "scatterpolargl": [
           {
            "marker": {
             "colorbar": {
              "outlinewidth": 0,
              "ticks": ""
             }
            },
            "type": "scatterpolargl"
           }
          ],
          "scatterternary": [
           {
            "marker": {
             "colorbar": {
              "outlinewidth": 0,
              "ticks": ""
             }
            },
            "type": "scatterternary"
           }
          ],
          "surface": [
           {
            "colorbar": {
             "outlinewidth": 0,
             "ticks": ""
            },
            "colorscale": [
             [
              0,
              "#0d0887"
             ],
             [
              0.1111111111111111,
              "#46039f"
             ],
             [
              0.2222222222222222,
              "#7201a8"
             ],
             [
              0.3333333333333333,
              "#9c179e"
             ],
             [
              0.4444444444444444,
              "#bd3786"
             ],
             [
              0.5555555555555556,
              "#d8576b"
             ],
             [
              0.6666666666666666,
              "#ed7953"
             ],
             [
              0.7777777777777778,
              "#fb9f3a"
             ],
             [
              0.8888888888888888,
              "#fdca26"
             ],
             [
              1,
              "#f0f921"
             ]
            ],
            "type": "surface"
           }
          ],
          "table": [
           {
            "cells": {
             "fill": {
              "color": "#EBF0F8"
             },
             "line": {
              "color": "white"
             }
            },
            "header": {
             "fill": {
              "color": "#C8D4E3"
             },
             "line": {
              "color": "white"
             }
            },
            "type": "table"
           }
          ]
         },
         "layout": {
          "annotationdefaults": {
           "arrowcolor": "#2a3f5f",
           "arrowhead": 0,
           "arrowwidth": 1
          },
          "autotypenumbers": "strict",
          "coloraxis": {
           "colorbar": {
            "outlinewidth": 0,
            "ticks": ""
           }
          },
          "colorscale": {
           "diverging": [
            [
             0,
             "#8e0152"
            ],
            [
             0.1,
             "#c51b7d"
            ],
            [
             0.2,
             "#de77ae"
            ],
            [
             0.3,
             "#f1b6da"
            ],
            [
             0.4,
             "#fde0ef"
            ],
            [
             0.5,
             "#f7f7f7"
            ],
            [
             0.6,
             "#e6f5d0"
            ],
            [
             0.7,
             "#b8e186"
            ],
            [
             0.8,
             "#7fbc41"
            ],
            [
             0.9,
             "#4d9221"
            ],
            [
             1,
             "#276419"
            ]
           ],
           "sequential": [
            [
             0,
             "#0d0887"
            ],
            [
             0.1111111111111111,
             "#46039f"
            ],
            [
             0.2222222222222222,
             "#7201a8"
            ],
            [
             0.3333333333333333,
             "#9c179e"
            ],
            [
             0.4444444444444444,
             "#bd3786"
            ],
            [
             0.5555555555555556,
             "#d8576b"
            ],
            [
             0.6666666666666666,
             "#ed7953"
            ],
            [
             0.7777777777777778,
             "#fb9f3a"
            ],
            [
             0.8888888888888888,
             "#fdca26"
            ],
            [
             1,
             "#f0f921"
            ]
           ],
           "sequentialminus": [
            [
             0,
             "#0d0887"
            ],
            [
             0.1111111111111111,
             "#46039f"
            ],
            [
             0.2222222222222222,
             "#7201a8"
            ],
            [
             0.3333333333333333,
             "#9c179e"
            ],
            [
             0.4444444444444444,
             "#bd3786"
            ],
            [
             0.5555555555555556,
             "#d8576b"
            ],
            [
             0.6666666666666666,
             "#ed7953"
            ],
            [
             0.7777777777777778,
             "#fb9f3a"
            ],
            [
             0.8888888888888888,
             "#fdca26"
            ],
            [
             1,
             "#f0f921"
            ]
           ]
          },
          "colorway": [
           "#636efa",
           "#EF553B",
           "#00cc96",
           "#ab63fa",
           "#FFA15A",
           "#19d3f3",
           "#FF6692",
           "#B6E880",
           "#FF97FF",
           "#FECB52"
          ],
          "font": {
           "color": "#2a3f5f"
          },
          "geo": {
           "bgcolor": "white",
           "lakecolor": "white",
           "landcolor": "#E5ECF6",
           "showlakes": true,
           "showland": true,
           "subunitcolor": "white"
          },
          "hoverlabel": {
           "align": "left"
          },
          "hovermode": "closest",
          "mapbox": {
           "style": "light"
          },
          "paper_bgcolor": "white",
          "plot_bgcolor": "#E5ECF6",
          "polar": {
           "angularaxis": {
            "gridcolor": "white",
            "linecolor": "white",
            "ticks": ""
           },
           "bgcolor": "#E5ECF6",
           "radialaxis": {
            "gridcolor": "white",
            "linecolor": "white",
            "ticks": ""
           }
          },
          "scene": {
           "xaxis": {
            "backgroundcolor": "#E5ECF6",
            "gridcolor": "white",
            "gridwidth": 2,
            "linecolor": "white",
            "showbackground": true,
            "ticks": "",
            "zerolinecolor": "white"
           },
           "yaxis": {
            "backgroundcolor": "#E5ECF6",
            "gridcolor": "white",
            "gridwidth": 2,
            "linecolor": "white",
            "showbackground": true,
            "ticks": "",
            "zerolinecolor": "white"
           },
           "zaxis": {
            "backgroundcolor": "#E5ECF6",
            "gridcolor": "white",
            "gridwidth": 2,
            "linecolor": "white",
            "showbackground": true,
            "ticks": "",
            "zerolinecolor": "white"
           }
          },
          "shapedefaults": {
           "line": {
            "color": "#2a3f5f"
           }
          },
          "ternary": {
           "aaxis": {
            "gridcolor": "white",
            "linecolor": "white",
            "ticks": ""
           },
           "baxis": {
            "gridcolor": "white",
            "linecolor": "white",
            "ticks": ""
           },
           "bgcolor": "#E5ECF6",
           "caxis": {
            "gridcolor": "white",
            "linecolor": "white",
            "ticks": ""
           }
          },
          "title": {
           "x": 0.05
          },
          "xaxis": {
           "automargin": true,
           "gridcolor": "white",
           "linecolor": "white",
           "ticks": "",
           "title": {
            "standoff": 15
           },
           "zerolinecolor": "white",
           "zerolinewidth": 2
          },
          "yaxis": {
           "automargin": true,
           "gridcolor": "white",
           "linecolor": "white",
           "ticks": "",
           "title": {
            "standoff": 15
           },
           "zerolinecolor": "white",
           "zerolinewidth": 2
          }
         }
        },
        "title": {
         "text": "pre-buckets: LIMIT_BAL"
        },
        "transition": {
         "duration": 50
        },
        "xaxis": {
         "anchor": "y",
         "domain": [
          0,
          0.94
         ],
         "title": {
          "text": "LIMIT_BAL pre-buckets"
         },
         "type": "category"
        },
        "yaxis": {
         "anchor": "x",
         "domain": [
          0,
          1
         ],
         "tickformat": ",.0%",
         "title": {
          "text": "bucket size"
         }
        },
        "yaxis2": {
         "anchor": "x",
         "overlaying": "y",
         "side": "right",
         "tickformat": ",.0%",
         "title": {
          "text": "bucket event rate"
         }
        }
       }
      }
     },
     "metadata": {}
    }
   ],
   "source": [
    "bucketing_process.plot_prebucket(\"LIMIT_BAL\") # , format=\"png\", scale=2, width=1050, height=525"
   ]
  },
  {
   "cell_type": "code",
   "execution_count": 20,
   "metadata": {
    "ExecuteTime": {
     "end_time": "2021-04-21T21:36:01.142861Z",
     "start_time": "2021-04-21T21:35:58.404Z"
    }
   },
   "outputs": [
    {
     "output_type": "display_data",
     "data": {
      "application/vnd.plotly.v1+json": {
       "config": {
        "plotlyServerURL": "https://plot.ly"
       },
       "data": [
        {
         "line": {
          "color": "#454c57"
         },
         "name": "Event Rate",
         "type": "scatter",
         "x": [
          "Special: Is 1",
          "Other",
          "Missing",
          "3, 5, 4, 2, 1",
          "0"
         ],
         "xaxis": "x",
         "y": [
          0.18161024702653247,
          null,
          null,
          0.23875114784205692,
          0.2524770642201835
         ],
         "yaxis": "y2"
        },
        {
         "marker": {
          "color": [
           "rgb(255,217,47)",
           "rgb(229,196,148)",
           "rgb(179,179,179)",
           "rgb(102,194,165)",
           "rgb(252,141,98)"
          ]
         },
         "name": "Bucket count percentage",
         "type": "bar",
         "x": [
          "Special: Is 1",
          "Other",
          "Missing",
          "3, 5, 4, 2, 1",
          "0"
         ],
         "xaxis": "x",
         "y": [
          0.3643,
          0,
          0,
          0.1815,
          0.4542
         ],
         "yaxis": "y"
        }
       ],
       "layout": {
        "height": 350,
        "margin": {
         "b": 20,
         "l": 20,
         "r": 20,
         "t": 40
        },
        "showlegend": false,
        "template": {
         "data": {
          "bar": [
           {
            "error_x": {
             "color": "#2a3f5f"
            },
            "error_y": {
             "color": "#2a3f5f"
            },
            "marker": {
             "line": {
              "color": "#E5ECF6",
              "width": 0.5
             }
            },
            "type": "bar"
           }
          ],
          "barpolar": [
           {
            "marker": {
             "line": {
              "color": "#E5ECF6",
              "width": 0.5
             }
            },
            "type": "barpolar"
           }
          ],
          "carpet": [
           {
            "aaxis": {
             "endlinecolor": "#2a3f5f",
             "gridcolor": "white",
             "linecolor": "white",
             "minorgridcolor": "white",
             "startlinecolor": "#2a3f5f"
            },
            "baxis": {
             "endlinecolor": "#2a3f5f",
             "gridcolor": "white",
             "linecolor": "white",
             "minorgridcolor": "white",
             "startlinecolor": "#2a3f5f"
            },
            "type": "carpet"
           }
          ],
          "choropleth": [
           {
            "colorbar": {
             "outlinewidth": 0,
             "ticks": ""
            },
            "type": "choropleth"
           }
          ],
          "contour": [
           {
            "colorbar": {
             "outlinewidth": 0,
             "ticks": ""
            },
            "colorscale": [
             [
              0,
              "#0d0887"
             ],
             [
              0.1111111111111111,
              "#46039f"
             ],
             [
              0.2222222222222222,
              "#7201a8"
             ],
             [
              0.3333333333333333,
              "#9c179e"
             ],
             [
              0.4444444444444444,
              "#bd3786"
             ],
             [
              0.5555555555555556,
              "#d8576b"
             ],
             [
              0.6666666666666666,
              "#ed7953"
             ],
             [
              0.7777777777777778,
              "#fb9f3a"
             ],
             [
              0.8888888888888888,
              "#fdca26"
             ],
             [
              1,
              "#f0f921"
             ]
            ],
            "type": "contour"
           }
          ],
          "contourcarpet": [
           {
            "colorbar": {
             "outlinewidth": 0,
             "ticks": ""
            },
            "type": "contourcarpet"
           }
          ],
          "heatmap": [
           {
            "colorbar": {
             "outlinewidth": 0,
             "ticks": ""
            },
            "colorscale": [
             [
              0,
              "#0d0887"
             ],
             [
              0.1111111111111111,
              "#46039f"
             ],
             [
              0.2222222222222222,
              "#7201a8"
             ],
             [
              0.3333333333333333,
              "#9c179e"
             ],
             [
              0.4444444444444444,
              "#bd3786"
             ],
             [
              0.5555555555555556,
              "#d8576b"
             ],
             [
              0.6666666666666666,
              "#ed7953"
             ],
             [
              0.7777777777777778,
              "#fb9f3a"
             ],
             [
              0.8888888888888888,
              "#fdca26"
             ],
             [
              1,
              "#f0f921"
             ]
            ],
            "type": "heatmap"
           }
          ],
          "heatmapgl": [
           {
            "colorbar": {
             "outlinewidth": 0,
             "ticks": ""
            },
            "colorscale": [
             [
              0,
              "#0d0887"
             ],
             [
              0.1111111111111111,
              "#46039f"
             ],
             [
              0.2222222222222222,
              "#7201a8"
             ],
             [
              0.3333333333333333,
              "#9c179e"
             ],
             [
              0.4444444444444444,
              "#bd3786"
             ],
             [
              0.5555555555555556,
              "#d8576b"
             ],
             [
              0.6666666666666666,
              "#ed7953"
             ],
             [
              0.7777777777777778,
              "#fb9f3a"
             ],
             [
              0.8888888888888888,
              "#fdca26"
             ],
             [
              1,
              "#f0f921"
             ]
            ],
            "type": "heatmapgl"
           }
          ],
          "histogram": [
           {
            "marker": {
             "colorbar": {
              "outlinewidth": 0,
              "ticks": ""
             }
            },
            "type": "histogram"
           }
          ],
          "histogram2d": [
           {
            "colorbar": {
             "outlinewidth": 0,
             "ticks": ""
            },
            "colorscale": [
             [
              0,
              "#0d0887"
             ],
             [
              0.1111111111111111,
              "#46039f"
             ],
             [
              0.2222222222222222,
              "#7201a8"
             ],
             [
              0.3333333333333333,
              "#9c179e"
             ],
             [
              0.4444444444444444,
              "#bd3786"
             ],
             [
              0.5555555555555556,
              "#d8576b"
             ],
             [
              0.6666666666666666,
              "#ed7953"
             ],
             [
              0.7777777777777778,
              "#fb9f3a"
             ],
             [
              0.8888888888888888,
              "#fdca26"
             ],
             [
              1,
              "#f0f921"
             ]
            ],
            "type": "histogram2d"
           }
          ],
          "histogram2dcontour": [
           {
            "colorbar": {
             "outlinewidth": 0,
             "ticks": ""
            },
            "colorscale": [
             [
              0,
              "#0d0887"
             ],
             [
              0.1111111111111111,
              "#46039f"
             ],
             [
              0.2222222222222222,
              "#7201a8"
             ],
             [
              0.3333333333333333,
              "#9c179e"
             ],
             [
              0.4444444444444444,
              "#bd3786"
             ],
             [
              0.5555555555555556,
              "#d8576b"
             ],
             [
              0.6666666666666666,
              "#ed7953"
             ],
             [
              0.7777777777777778,
              "#fb9f3a"
             ],
             [
              0.8888888888888888,
              "#fdca26"
             ],
             [
              1,
              "#f0f921"
             ]
            ],
            "type": "histogram2dcontour"
           }
          ],
          "mesh3d": [
           {
            "colorbar": {
             "outlinewidth": 0,
             "ticks": ""
            },
            "type": "mesh3d"
           }
          ],
          "parcoords": [
           {
            "line": {
             "colorbar": {
              "outlinewidth": 0,
              "ticks": ""
             }
            },
            "type": "parcoords"
           }
          ],
          "pie": [
           {
            "automargin": true,
            "type": "pie"
           }
          ],
          "scatter": [
           {
            "marker": {
             "colorbar": {
              "outlinewidth": 0,
              "ticks": ""
             }
            },
            "type": "scatter"
           }
          ],
          "scatter3d": [
           {
            "line": {
             "colorbar": {
              "outlinewidth": 0,
              "ticks": ""
             }
            },
            "marker": {
             "colorbar": {
              "outlinewidth": 0,
              "ticks": ""
             }
            },
            "type": "scatter3d"
           }
          ],
          "scattercarpet": [
           {
            "marker": {
             "colorbar": {
              "outlinewidth": 0,
              "ticks": ""
             }
            },
            "type": "scattercarpet"
           }
          ],
          "scattergeo": [
           {
            "marker": {
             "colorbar": {
              "outlinewidth": 0,
              "ticks": ""
             }
            },
            "type": "scattergeo"
           }
          ],
          "scattergl": [
           {
            "marker": {
             "colorbar": {
              "outlinewidth": 0,
              "ticks": ""
             }
            },
            "type": "scattergl"
           }
          ],
          "scattermapbox": [
           {
            "marker": {
             "colorbar": {
              "outlinewidth": 0,
              "ticks": ""
             }
            },
            "type": "scattermapbox"
           }
          ],
          "scatterpolar": [
           {
            "marker": {
             "colorbar": {
              "outlinewidth": 0,
              "ticks": ""
             }
            },
            "type": "scatterpolar"
           }
          ],
          "scatterpolargl": [
           {
            "marker": {
             "colorbar": {
              "outlinewidth": 0,
              "ticks": ""
             }
            },
            "type": "scatterpolargl"
           }
          ],
          "scatterternary": [
           {
            "marker": {
             "colorbar": {
              "outlinewidth": 0,
              "ticks": ""
             }
            },
            "type": "scatterternary"
           }
          ],
          "surface": [
           {
            "colorbar": {
             "outlinewidth": 0,
             "ticks": ""
            },
            "colorscale": [
             [
              0,
              "#0d0887"
             ],
             [
              0.1111111111111111,
              "#46039f"
             ],
             [
              0.2222222222222222,
              "#7201a8"
             ],
             [
              0.3333333333333333,
              "#9c179e"
             ],
             [
              0.4444444444444444,
              "#bd3786"
             ],
             [
              0.5555555555555556,
              "#d8576b"
             ],
             [
              0.6666666666666666,
              "#ed7953"
             ],
             [
              0.7777777777777778,
              "#fb9f3a"
             ],
             [
              0.8888888888888888,
              "#fdca26"
             ],
             [
              1,
              "#f0f921"
             ]
            ],
            "type": "surface"
           }
          ],
          "table": [
           {
            "cells": {
             "fill": {
              "color": "#EBF0F8"
             },
             "line": {
              "color": "white"
             }
            },
            "header": {
             "fill": {
              "color": "#C8D4E3"
             },
             "line": {
              "color": "white"
             }
            },
            "type": "table"
           }
          ]
         },
         "layout": {
          "annotationdefaults": {
           "arrowcolor": "#2a3f5f",
           "arrowhead": 0,
           "arrowwidth": 1
          },
          "autotypenumbers": "strict",
          "coloraxis": {
           "colorbar": {
            "outlinewidth": 0,
            "ticks": ""
           }
          },
          "colorscale": {
           "diverging": [
            [
             0,
             "#8e0152"
            ],
            [
             0.1,
             "#c51b7d"
            ],
            [
             0.2,
             "#de77ae"
            ],
            [
             0.3,
             "#f1b6da"
            ],
            [
             0.4,
             "#fde0ef"
            ],
            [
             0.5,
             "#f7f7f7"
            ],
            [
             0.6,
             "#e6f5d0"
            ],
            [
             0.7,
             "#b8e186"
            ],
            [
             0.8,
             "#7fbc41"
            ],
            [
             0.9,
             "#4d9221"
            ],
            [
             1,
             "#276419"
            ]
           ],
           "sequential": [
            [
             0,
             "#0d0887"
            ],
            [
             0.1111111111111111,
             "#46039f"
            ],
            [
             0.2222222222222222,
             "#7201a8"
            ],
            [
             0.3333333333333333,
             "#9c179e"
            ],
            [
             0.4444444444444444,
             "#bd3786"
            ],
            [
             0.5555555555555556,
             "#d8576b"
            ],
            [
             0.6666666666666666,
             "#ed7953"
            ],
            [
             0.7777777777777778,
             "#fb9f3a"
            ],
            [
             0.8888888888888888,
             "#fdca26"
            ],
            [
             1,
             "#f0f921"
            ]
           ],
           "sequentialminus": [
            [
             0,
             "#0d0887"
            ],
            [
             0.1111111111111111,
             "#46039f"
            ],
            [
             0.2222222222222222,
             "#7201a8"
            ],
            [
             0.3333333333333333,
             "#9c179e"
            ],
            [
             0.4444444444444444,
             "#bd3786"
            ],
            [
             0.5555555555555556,
             "#d8576b"
            ],
            [
             0.6666666666666666,
             "#ed7953"
            ],
            [
             0.7777777777777778,
             "#fb9f3a"
            ],
            [
             0.8888888888888888,
             "#fdca26"
            ],
            [
             1,
             "#f0f921"
            ]
           ]
          },
          "colorway": [
           "#636efa",
           "#EF553B",
           "#00cc96",
           "#ab63fa",
           "#FFA15A",
           "#19d3f3",
           "#FF6692",
           "#B6E880",
           "#FF97FF",
           "#FECB52"
          ],
          "font": {
           "color": "#2a3f5f"
          },
          "geo": {
           "bgcolor": "white",
           "lakecolor": "white",
           "landcolor": "#E5ECF6",
           "showlakes": true,
           "showland": true,
           "subunitcolor": "white"
          },
          "hoverlabel": {
           "align": "left"
          },
          "hovermode": "closest",
          "mapbox": {
           "style": "light"
          },
          "paper_bgcolor": "white",
          "plot_bgcolor": "#E5ECF6",
          "polar": {
           "angularaxis": {
            "gridcolor": "white",
            "linecolor": "white",
            "ticks": ""
           },
           "bgcolor": "#E5ECF6",
           "radialaxis": {
            "gridcolor": "white",
            "linecolor": "white",
            "ticks": ""
           }
          },
          "scene": {
           "xaxis": {
            "backgroundcolor": "#E5ECF6",
            "gridcolor": "white",
            "gridwidth": 2,
            "linecolor": "white",
            "showbackground": true,
            "ticks": "",
            "zerolinecolor": "white"
           },
           "yaxis": {
            "backgroundcolor": "#E5ECF6",
            "gridcolor": "white",
            "gridwidth": 2,
            "linecolor": "white",
            "showbackground": true,
            "ticks": "",
            "zerolinecolor": "white"
           },
           "zaxis": {
            "backgroundcolor": "#E5ECF6",
            "gridcolor": "white",
            "gridwidth": 2,
            "linecolor": "white",
            "showbackground": true,
            "ticks": "",
            "zerolinecolor": "white"
           }
          },
          "shapedefaults": {
           "line": {
            "color": "#2a3f5f"
           }
          },
          "ternary": {
           "aaxis": {
            "gridcolor": "white",
            "linecolor": "white",
            "ticks": ""
           },
           "baxis": {
            "gridcolor": "white",
            "linecolor": "white",
            "ticks": ""
           },
           "bgcolor": "#E5ECF6",
           "caxis": {
            "gridcolor": "white",
            "linecolor": "white",
            "ticks": ""
           }
          },
          "title": {
           "x": 0.05
          },
          "xaxis": {
           "automargin": true,
           "gridcolor": "white",
           "linecolor": "white",
           "ticks": "",
           "title": {
            "standoff": 15
           },
           "zerolinecolor": "white",
           "zerolinewidth": 2
          },
          "yaxis": {
           "automargin": true,
           "gridcolor": "white",
           "linecolor": "white",
           "ticks": "",
           "title": {
            "standoff": 15
           },
           "zerolinecolor": "white",
           "zerolinewidth": 2
          }
         }
        },
        "title": {
         "text": "buckets: EDUCATION"
        },
        "transition": {
         "duration": 50
        },
        "xaxis": {
         "anchor": "y",
         "domain": [
          0,
          0.94
         ],
         "title": {
          "text": "EDUCATION buckets"
         },
         "type": "category"
        },
        "yaxis": {
         "anchor": "x",
         "domain": [
          0,
          1
         ],
         "tickformat": ",.0%",
         "title": {
          "text": "bucket size"
         }
        },
        "yaxis2": {
         "anchor": "x",
         "overlaying": "y",
         "side": "right",
         "tickformat": ",.0%",
         "title": {
          "text": "bucket event rate"
         }
        }
       }
      }
     },
     "metadata": {}
    }
   ],
   "source": [
    "bucketing_process.plot_bucket(\"EDUCATION\")"
   ]
  },
  {
   "source": [
    "# The `Skorecard()` class"
   ],
   "cell_type": "markdown",
   "metadata": {}
  },
  {
   "cell_type": "code",
   "execution_count": 27,
   "metadata": {
    "ExecuteTime": {
     "end_time": "2021-04-21T21:36:01.146183Z",
     "start_time": "2021-04-21T21:35:58.408Z"
    }
   },
   "outputs": [
    {
     "output_type": "execute_result",
     "data": {
      "text/plain": [
       "              Coef.   Std.Err          z         P>|z|\n",
       "const     -1.240828  0.031693 -39.151596  0.000000e+00\n",
       "EDUCATION -0.340250  0.178852  -1.902415  5.711695e-02\n",
       "MARRIAGE  -1.213080  0.283796  -4.274486  1.915788e-05\n",
       "LIMIT_BAL -0.985841  0.080567 -12.236294  1.989084e-34\n",
       "BILL_AMT1 -0.254500  0.438745  -0.580063  5.618724e-01"
      ],
      "text/html": "<div>\n<style scoped>\n    .dataframe tbody tr th:only-of-type {\n        vertical-align: middle;\n    }\n\n    .dataframe tbody tr th {\n        vertical-align: top;\n    }\n\n    .dataframe thead th {\n        text-align: right;\n    }\n</style>\n<table border=\"1\" class=\"dataframe\">\n  <thead>\n    <tr style=\"text-align: right;\">\n      <th></th>\n      <th>Coef.</th>\n      <th>Std.Err</th>\n      <th>z</th>\n      <th>P&gt;|z|</th>\n    </tr>\n  </thead>\n  <tbody>\n    <tr>\n      <th>const</th>\n      <td>-1.240828</td>\n      <td>0.031693</td>\n      <td>-39.151596</td>\n      <td>0.000000e+00</td>\n    </tr>\n    <tr>\n      <th>EDUCATION</th>\n      <td>-0.340250</td>\n      <td>0.178852</td>\n      <td>-1.902415</td>\n      <td>5.711695e-02</td>\n    </tr>\n    <tr>\n      <th>MARRIAGE</th>\n      <td>-1.213080</td>\n      <td>0.283796</td>\n      <td>-4.274486</td>\n      <td>1.915788e-05</td>\n    </tr>\n    <tr>\n      <th>LIMIT_BAL</th>\n      <td>-0.985841</td>\n      <td>0.080567</td>\n      <td>-12.236294</td>\n      <td>1.989084e-34</td>\n    </tr>\n    <tr>\n      <th>BILL_AMT1</th>\n      <td>-0.254500</td>\n      <td>0.438745</td>\n      <td>-0.580063</td>\n      <td>5.618724e-01</td>\n    </tr>\n  </tbody>\n</table>\n</div>"
     },
     "metadata": {},
     "execution_count": 27
    }
   ],
   "source": [
    "from skorecard import Skorecard\n",
    "model = Skorecard(bucketing=bucketing_process)\n",
    "model.fit(X, y)\n",
    "model.get_stats()"
   ]
  },
  {
   "cell_type": "code",
   "execution_count": 29,
   "metadata": {},
   "outputs": [
    {
     "output_type": "execute_result",
     "data": {
      "text/plain": [
       "Pipeline(steps=[('bucketer',\n",
       "                 BucketingProcess(bucketing_pipeline=SkorecardPipeline(steps=[('optimalbucketer-1',\n",
       "                                                                               OptimalBucketer(max_n_bins=6,\n",
       "                                                                                               variables=['LIMIT_BAL',\n",
       "                                                                                                          'BILL_AMT1'])),\n",
       "                                                                              ('optimalbucketer-2',\n",
       "                                                                               OptimalBucketer(max_n_bins=6,\n",
       "                                                                                               variables=['EDUCATION',\n",
       "                                                                                                          'MARRIAGE'],\n",
       "                                                                                               variables_type='categorical'))]),\n",
       "                                  prebucketing_pipeline=SkorecardPipeline(steps=[('decisi...\n",
       "                                                                                  DecisionTreeBucketer(max_n_bins=50,\n",
       "                                                                                                       min_bin_size=0.02,\n",
       "                                                                                                       variables=['LIMIT_BAL',\n",
       "                                                                                                                  'BILL_AMT1'])),\n",
       "                                                                                 ('ordinalcategoricalbucketer',\n",
       "                                                                                  OrdinalCategoricalBucketer(tol=0.02,\n",
       "                                                                                                             variables=['EDUCATION',\n",
       "                                                                                                                        'MARRIAGE']))]))),\n",
       "                ('encoder',\n",
       "                 WoeEncoder(variables=['EDUCATION', 'MARRIAGE', 'LIMIT_BAL',\n",
       "                                       'BILL_AMT1'])),\n",
       "                ('column_selector', ColumnSelector()),\n",
       "                ('model', LogisticRegression())])"
      ]
     },
     "metadata": {},
     "execution_count": 29
    }
   ],
   "source": [
    "model.pipeline"
   ]
  },
  {
   "cell_type": "code",
   "execution_count": 26,
   "metadata": {},
   "outputs": [
    {
     "output_type": "execute_result",
     "data": {
      "text/plain": [
       "   bucket    label   Count  Count (%)  Non-event  Event  Event Rate    WoE  \\\n",
       "0      -2    Other     0.0       0.00        0.0    0.0         NaN  0.000   \n",
       "1      -1  Missing     0.0       0.00        0.0    0.0         NaN  0.000   \n",
       "2       0    -2, 1  2262.0      37.70     1860.0  402.0    0.177719  0.290   \n",
       "3       1        2  1013.0      16.88      758.0  255.0    0.251728 -0.152   \n",
       "4       2        0  2725.0      45.42     2037.0  688.0    0.252477 -0.156   \n",
       "\n",
       "      IV  \n",
       "0  0.000  \n",
       "1  0.000  \n",
       "2 -0.029  \n",
       "3 -0.004  \n",
       "4 -0.012  "
      ],
      "text/html": "<div>\n<style scoped>\n    .dataframe tbody tr th:only-of-type {\n        vertical-align: middle;\n    }\n\n    .dataframe tbody tr th {\n        vertical-align: top;\n    }\n\n    .dataframe thead th {\n        text-align: right;\n    }\n</style>\n<table border=\"1\" class=\"dataframe\">\n  <thead>\n    <tr style=\"text-align: right;\">\n      <th></th>\n      <th>bucket</th>\n      <th>label</th>\n      <th>Count</th>\n      <th>Count (%)</th>\n      <th>Non-event</th>\n      <th>Event</th>\n      <th>Event Rate</th>\n      <th>WoE</th>\n      <th>IV</th>\n    </tr>\n  </thead>\n  <tbody>\n    <tr>\n      <th>0</th>\n      <td>-2</td>\n      <td>Other</td>\n      <td>0.0</td>\n      <td>0.00</td>\n      <td>0.0</td>\n      <td>0.0</td>\n      <td>NaN</td>\n      <td>0.000</td>\n      <td>0.000</td>\n    </tr>\n    <tr>\n      <th>1</th>\n      <td>-1</td>\n      <td>Missing</td>\n      <td>0.0</td>\n      <td>0.00</td>\n      <td>0.0</td>\n      <td>0.0</td>\n      <td>NaN</td>\n      <td>0.000</td>\n      <td>0.000</td>\n    </tr>\n    <tr>\n      <th>2</th>\n      <td>0</td>\n      <td>-2, 1</td>\n      <td>2262.0</td>\n      <td>37.70</td>\n      <td>1860.0</td>\n      <td>402.0</td>\n      <td>0.177719</td>\n      <td>0.290</td>\n      <td>-0.029</td>\n    </tr>\n    <tr>\n      <th>3</th>\n      <td>1</td>\n      <td>2</td>\n      <td>1013.0</td>\n      <td>16.88</td>\n      <td>758.0</td>\n      <td>255.0</td>\n      <td>0.251728</td>\n      <td>-0.152</td>\n      <td>-0.004</td>\n    </tr>\n    <tr>\n      <th>4</th>\n      <td>2</td>\n      <td>0</td>\n      <td>2725.0</td>\n      <td>45.42</td>\n      <td>2037.0</td>\n      <td>688.0</td>\n      <td>0.252477</td>\n      <td>-0.156</td>\n      <td>-0.012</td>\n    </tr>\n  </tbody>\n</table>\n</div>"
     },
     "metadata": {},
     "execution_count": 26
    }
   ],
   "source": [
    "model.bucket_table('EDUCATION')"
   ]
  },
  {
   "cell_type": "code",
   "execution_count": 31,
   "metadata": {},
   "outputs": [
    {
     "output_type": "execute_result",
     "data": {
      "text/plain": [
       "FeaturesBucketMapping([BucketMapping(feature_name='LIMIT_BAL', type='numerical', missing_bucket=None, other_bucket=None, map=[45000.0, 105000.0, 145000.0, 255000.0, 385000.0], right=False, specials={}), BucketMapping(feature_name='BILL_AMT1', type='numerical', missing_bucket=None, other_bucket=None, map=[776.5, 2559.5, 36140.5, 77876.5, 114883.0], right=False, specials={}), BucketMapping(feature_name='EDUCATION', type='categorical', missing_bucket=None, other_bucket=0, map={2: 2, 1: 0, 3: 1}, right=True, specials={}), BucketMapping(feature_name='MARRIAGE', type='categorical', missing_bucket=None, other_bucket=1, map={2: 0, 1: 1}, right=True, specials={})])"
      ]
     },
     "metadata": {},
     "execution_count": 31
    }
   ],
   "source": [
    "model.bucketing.features_bucket_mapping_"
   ]
  }
 ],
 "metadata": {
  "kernelspec": {
   "name": "python385jvsc74a57bd0358a4423f52aa1f7341f935cecae218fabcbaaa95ea1661253f2b730112d1496",
   "display_name": "Python 3.8.5 64-bit ('py38': conda)"
  },
  "language_info": {
   "codemirror_mode": {
    "name": "ipython",
    "version": 3
   },
   "file_extension": ".py",
   "mimetype": "text/x-python",
   "name": "python",
   "nbconvert_exporter": "python",
   "pygments_lexer": "ipython3",
   "version": "3.8.5"
  },
  "latex_envs": {
   "LaTeX_envs_menu_present": true,
   "autoclose": false,
   "autocomplete": true,
   "bibliofile": "biblio.bib",
   "cite_by": "apalike",
   "current_citInitial": 1,
   "eqLabelWithNumbers": true,
   "eqNumInitial": 1,
   "hotkeys": {
    "equation": "Ctrl-E",
    "itemize": "Ctrl-I"
   },
   "labels_anchors": false,
   "latex_user_defs": false,
   "report_style_numbering": false,
   "user_envs_cfg": false
  },
  "metadata": {
   "interpreter": {
    "hash": "aee8b7b246df8f9039afb4144a1f6fd8d2ca17a180786b69acc140d282b71a49"
   }
  }
 },
 "nbformat": 4,
 "nbformat_minor": 2
}