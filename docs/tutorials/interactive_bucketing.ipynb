{
 "cells": [
  {
   "cell_type": "markdown",
   "source": [
    "# Interactive bucketing\n",
    "\n",
    "You might want to manually edit the bucketing boundaries, for example to incorporate specific domain knowledge. You can [manually define buckets](../howto/using_manually_defined_buckets.ipynb), but you could also use to interactive explore and update the buckets. All `skorecard.bucketers` have a method called `.fit_interactive()`, which will call `.fit()` if the bucketer is not yet fitted, and then launch a [dash webapp](https://dash.plotly.com/)."
   ],
   "metadata": {}
  },
  {
   "cell_type": "code",
   "execution_count": 12,
   "source": [
    "from skorecard.datasets import load_uci_credit_card\n",
    "from skorecard.bucketers import DecisionTreeBucketer\n",
    "\n",
    "X, y = load_uci_credit_card(return_X_y=True)\n",
    "bucketer = DecisionTreeBucketer(max_n_bins=10)\n",
    "# bucketer.fit_interactive(X, y) # not run"
   ],
   "outputs": [
    {
     "output_type": "stream",
     "name": "stdout",
     "text": [
      "Dash app running on http://127.0.0.1:8050/\n"
     ]
    }
   ],
   "metadata": {}
  },
  {
   "cell_type": "markdown",
   "source": [
    "This should look like:\n",
    "\n",
    "![dash app example](../assets/img/dash_app_numerical_bucketer.png)"
   ],
   "metadata": {}
  },
  {
   "cell_type": "markdown",
   "source": [
    "## Pipelines\n",
    "\n"
   ],
   "metadata": {}
  },
  {
   "cell_type": "code",
   "execution_count": 39,
   "source": [
    "from skorecard.bucketers import OrdinalCategoricalBucketer\n",
    "from skorecard.pipeline import to_skorecard_pipeline\n",
    "from sklearn.pipeline import make_pipeline\n",
    "\n",
    "pipe = make_pipeline(\n",
    "    OrdinalCategoricalBucketer(variables=[\"EDUCATION\",\"MARRIAGE\"]),\n",
    "    DecisionTreeBucketer(max_n_bins=10, variables=[\"LIMIT_BAL\",\"BILL_AMT1\"])\n",
    ")\n",
    "\n",
    "# Make this a skorecard pipeline, which adds some convenience methods\n",
    "pipe = to_skorecard_pipeline(pipe)\n",
    "\n",
    "pipe.fit_interactive(X, y) # not run\n"
   ],
   "outputs": [
    {
     "output_type": "stream",
     "name": "stdout",
     "text": [
      "Dash app running on http://127.0.0.1:8050/\n"
     ]
    }
   ],
   "metadata": {}
  },
  {
   "cell_type": "code",
   "execution_count": null,
   "source": [],
   "outputs": [],
   "metadata": {}
  }
 ],
 "metadata": {
  "orig_nbformat": 4,
  "language_info": {
   "name": "python",
   "version": "3.8.5",
   "mimetype": "text/x-python",
   "codemirror_mode": {
    "name": "ipython",
    "version": 3
   },
   "pygments_lexer": "ipython3",
   "nbconvert_exporter": "python",
   "file_extension": ".py"
  },
  "kernelspec": {
   "name": "python3",
   "display_name": "Python 3.8.5 64-bit ('py38': conda)"
  },
  "interpreter": {
   "hash": "358a4423f52aa1f7341f935cecae218fabcbaaa95ea1661253f2b730112d1496"
  }
 },
 "nbformat": 4,
 "nbformat_minor": 2
}