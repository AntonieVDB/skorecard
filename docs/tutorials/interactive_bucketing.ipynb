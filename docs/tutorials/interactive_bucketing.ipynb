{
 "cells": [
  {
   "cell_type": "code",
   "execution_count": 1,
   "source": [
    "from skorecard.datasets import load_uci_credit_card\n",
    "from skorecard.bucketers import DecisionTreeBucketer\n",
    "\n",
    "X, y = load_uci_credit_card(return_X_y=True)\n",
    "bucketer = DecisionTreeBucketer(max_n_bins=10)"
   ],
   "outputs": [],
   "metadata": {}
  },
  {
   "cell_type": "code",
   "execution_count": 3,
   "source": [
    "bucketer.fit(X, y)"
   ],
   "outputs": [
    {
     "output_type": "execute_result",
     "data": {
      "text/plain": [
       "DecisionTreeBucketer(max_n_bins=10,\n",
       "                     variables=['EDUCATION', 'MARRIAGE', 'LIMIT_BAL',\n",
       "                                'BILL_AMT1'])"
      ]
     },
     "metadata": {},
     "execution_count": 3
    }
   ],
   "metadata": {}
  },
  {
   "cell_type": "code",
   "execution_count": 4,
   "source": [
    "bucketer.bucket_table('EDUCATION')"
   ],
   "outputs": [
    {
     "output_type": "execute_result",
     "data": {
      "text/plain": [
       "   bucket        label   Count  Count (%)  Non-event  Event  Event Rate  \\\n",
       "0      -1      Missing     0.0       0.00        0.0    0.0         NaN   \n",
       "1       0  [-inf, 1.5)  2187.0      36.45     1790.0  397.0    0.181527   \n",
       "2       1   [1.5, 2.5)  2725.0      45.42     2037.0  688.0    0.252477   \n",
       "3       2   [2.5, inf)  1088.0      18.13      828.0  260.0    0.238971   \n",
       "\n",
       "     WoE     IV  \n",
       "0  0.000  0.000  \n",
       "1  0.264  0.024  \n",
       "2 -0.156  0.012  \n",
       "3 -0.083  0.001  "
      ],
      "text/html": [
       "<div>\n",
       "<style scoped>\n",
       "    .dataframe tbody tr th:only-of-type {\n",
       "        vertical-align: middle;\n",
       "    }\n",
       "\n",
       "    .dataframe tbody tr th {\n",
       "        vertical-align: top;\n",
       "    }\n",
       "\n",
       "    .dataframe thead th {\n",
       "        text-align: right;\n",
       "    }\n",
       "</style>\n",
       "<table border=\"1\" class=\"dataframe\">\n",
       "  <thead>\n",
       "    <tr style=\"text-align: right;\">\n",
       "      <th></th>\n",
       "      <th>bucket</th>\n",
       "      <th>label</th>\n",
       "      <th>Count</th>\n",
       "      <th>Count (%)</th>\n",
       "      <th>Non-event</th>\n",
       "      <th>Event</th>\n",
       "      <th>Event Rate</th>\n",
       "      <th>WoE</th>\n",
       "      <th>IV</th>\n",
       "    </tr>\n",
       "  </thead>\n",
       "  <tbody>\n",
       "    <tr>\n",
       "      <th>0</th>\n",
       "      <td>-1</td>\n",
       "      <td>Missing</td>\n",
       "      <td>0.0</td>\n",
       "      <td>0.00</td>\n",
       "      <td>0.0</td>\n",
       "      <td>0.0</td>\n",
       "      <td>NaN</td>\n",
       "      <td>0.000</td>\n",
       "      <td>0.000</td>\n",
       "    </tr>\n",
       "    <tr>\n",
       "      <th>1</th>\n",
       "      <td>0</td>\n",
       "      <td>[-inf, 1.5)</td>\n",
       "      <td>2187.0</td>\n",
       "      <td>36.45</td>\n",
       "      <td>1790.0</td>\n",
       "      <td>397.0</td>\n",
       "      <td>0.181527</td>\n",
       "      <td>0.264</td>\n",
       "      <td>0.024</td>\n",
       "    </tr>\n",
       "    <tr>\n",
       "      <th>2</th>\n",
       "      <td>1</td>\n",
       "      <td>[1.5, 2.5)</td>\n",
       "      <td>2725.0</td>\n",
       "      <td>45.42</td>\n",
       "      <td>2037.0</td>\n",
       "      <td>688.0</td>\n",
       "      <td>0.252477</td>\n",
       "      <td>-0.156</td>\n",
       "      <td>0.012</td>\n",
       "    </tr>\n",
       "    <tr>\n",
       "      <th>3</th>\n",
       "      <td>2</td>\n",
       "      <td>[2.5, inf)</td>\n",
       "      <td>1088.0</td>\n",
       "      <td>18.13</td>\n",
       "      <td>828.0</td>\n",
       "      <td>260.0</td>\n",
       "      <td>0.238971</td>\n",
       "      <td>-0.083</td>\n",
       "      <td>0.001</td>\n",
       "    </tr>\n",
       "  </tbody>\n",
       "</table>\n",
       "</div>"
      ]
     },
     "metadata": {},
     "execution_count": 4
    }
   ],
   "metadata": {}
  },
  {
   "cell_type": "code",
   "execution_count": 5,
   "source": [
    "bucketer.features_bucket_mapping_.get('EDUCATION')"
   ],
   "outputs": [
    {
     "output_type": "execute_result",
     "data": {
      "text/plain": [
       "BucketMapping(feature_name='EDUCATION', type='numerical', missing_bucket=None, other_bucket=None, map=[1.5, 2.5], right=False, specials={})"
      ]
     },
     "metadata": {},
     "execution_count": 5
    }
   ],
   "metadata": {}
  },
  {
   "cell_type": "code",
   "execution_count": 30,
   "source": [
    "bucketer.fit_interactive(X, y, 'external')"
   ],
   "outputs": [
    {
     "output_type": "stream",
     "name": "stdout",
     "text": [
      "Dash app running on http://127.0.0.1:8050/\n"
     ]
    }
   ],
   "metadata": {}
  },
  {
   "cell_type": "code",
   "execution_count": null,
   "source": [],
   "outputs": [],
   "metadata": {}
  },
  {
   "cell_type": "code",
   "execution_count": null,
   "source": [],
   "outputs": [],
   "metadata": {}
  }
 ],
 "metadata": {
  "orig_nbformat": 4,
  "language_info": {
   "name": "python",
   "version": "3.8.5",
   "mimetype": "text/x-python",
   "codemirror_mode": {
    "name": "ipython",
    "version": 3
   },
   "pygments_lexer": "ipython3",
   "nbconvert_exporter": "python",
   "file_extension": ".py"
  },
  "kernelspec": {
   "name": "python3",
   "display_name": "Python 3.8.5 64-bit ('py38': conda)"
  },
  "interpreter": {
   "hash": "358a4423f52aa1f7341f935cecae218fabcbaaa95ea1661253f2b730112d1496"
  }
 },
 "nbformat": 4,
 "nbformat_minor": 2
}